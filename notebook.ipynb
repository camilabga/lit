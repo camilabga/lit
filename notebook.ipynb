{
 "cells": [
  {
   "cell_type": "code",
   "execution_count": null,
   "metadata": {},
   "outputs": [],
   "source": []
  },
  {
   "cell_type": "markdown",
   "metadata": {
    "collapsed": true
   },
   "source": [
    "# MARATONA BEHIND THE CODE 2020\n",
    "\n",
    "## DESAFIO 6 - LIT"
   ]
  },
  {
   "cell_type": "markdown",
   "metadata": {},
   "source": [
    "<hr>"
   ]
  },
  {
   "cell_type": "markdown",
   "metadata": {},
   "source": [
    "## Installing Libs"
   ]
  },
  {
   "cell_type": "code",
   "execution_count": null,
   "metadata": {},
   "outputs": [],
   "source": [
    "!pip install scikit-learn --upgrade"
   ]
  },
  {
   "cell_type": "code",
   "execution_count": null,
   "metadata": {},
   "outputs": [],
   "source": [
    "!pip install xgboost --upgrade"
   ]
  },
  {
   "cell_type": "code",
   "execution_count": 1,
   "metadata": {
    "tags": []
   },
   "outputs": [
    {
     "output_type": "stream",
     "name": "stdout",
     "text": "Collecting imblearn\n  Downloading imblearn-0.0-py2.py3-none-any.whl (1.9 kB)\nRequirement already satisfied, skipping upgrade: imbalanced-learn in /home/barbosa/Libraries/anaconda3/envs/mlenv/lib/python3.8/site-packages (from imblearn) (0.7.0)\nRequirement already satisfied, skipping upgrade: joblib>=0.11 in /home/barbosa/Libraries/anaconda3/envs/mlenv/lib/python3.8/site-packages (from imbalanced-learn->imblearn) (0.16.0)\nRequirement already satisfied, skipping upgrade: scikit-learn>=0.23 in /home/barbosa/Libraries/anaconda3/envs/mlenv/lib/python3.8/site-packages (from imbalanced-learn->imblearn) (0.23.1)\nRequirement already satisfied, skipping upgrade: scipy>=0.19.1 in /home/barbosa/Libraries/anaconda3/envs/mlenv/lib/python3.8/site-packages (from imbalanced-learn->imblearn) (1.5.0)\nRequirement already satisfied, skipping upgrade: numpy>=1.13.3 in /home/barbosa/Libraries/anaconda3/envs/mlenv/lib/python3.8/site-packages (from imbalanced-learn->imblearn) (1.19.1)\nRequirement already satisfied, skipping upgrade: threadpoolctl>=2.0.0 in /home/barbosa/Libraries/anaconda3/envs/mlenv/lib/python3.8/site-packages (from scikit-learn>=0.23->imbalanced-learn->imblearn) (2.1.0)\nInstalling collected packages: imblearn\nSuccessfully installed imblearn-0.0\n"
    }
   ],
   "source": [
    "!pip install imblearn --upgrade"
   ]
  },
  {
   "cell_type": "markdown",
   "metadata": {},
   "source": [
    "<hr>"
   ]
  },
  {
   "cell_type": "markdown",
   "metadata": {},
   "source": [
    "## Download dos conjuntos de dados em formato .csv"
   ]
  },
  {
   "cell_type": "code",
   "execution_count": 1,
   "metadata": {},
   "outputs": [],
   "source": [
    "import pandas as pd"
   ]
  },
  {
   "cell_type": "code",
   "execution_count": 2,
   "metadata": {
    "tags": []
   },
   "outputs": [
    {
     "output_type": "stream",
     "name": "stdout",
     "text": "--2020-09-04 17:09:43--  https://raw.githubusercontent.com/vanderlei-test/dataset-3/master/training_dataset.csv\nResolving raw.githubusercontent.com (raw.githubusercontent.com)...151.101.192.133, 151.101.128.133, 151.101.64.133, ...\nConnecting to raw.githubusercontent.com (raw.githubusercontent.com)|151.101.192.133|:443...connected.\nHTTP request sent, awaiting response...200 OK\nLength: 1736600 (1,7M) [text/plain]\nSaving to: ‘training_dataset.csv.4’\n\ntraining_dataset.cs 100%[===================>]   1,66M  1,74MB/s    in 1,0s    \n\n2020-09-04 17:09:45 (1,74 MB/s) - ‘training_dataset.csv.4’ saved [1736600/1736600]\n\n"
    },
    {
     "output_type": "execute_result",
     "data": {
      "text/plain": "                id     graduacao                universidade  \\\n15852  620397030.0   Bacharelado                         UFF   \n15853  229931283.0   Bacharelado                         NaN   \n15854  480674907.0     Tecnólogo                        UNIP   \n15855  559626807.0  SEM FORMAÇÃO  UNIVERSIDADE NOVE DE JULHO   \n15856  743652801.0           NaN                      FGV-RJ   \n\n                     profissao  organizacao  pretende_fazer_cursos_lit  \\\n15852                   Outros     Borracha                        0.0   \n15853                 Advogado          NaN                        0.0   \n15854  Sócio/Dono/Proprietário          NaN                        0.0   \n15855                 Advogado       Estado                        0.0   \n15856                      NaN  Siderurgica                        1.0   \n\n       interesse_mba_lit  importante_ter_certificado  horas_semanais_estudo  \\\n15852                0.0                         1.0                    8.0   \n15853                0.0                         1.0                    7.0   \n15854                NaN                         1.0                    7.0   \n15855                0.0                         1.0                   10.0   \n15856                1.0                         1.0                    9.0   \n\n      como_conheceu_lit  total_modulos  modulos_iniciados  \\\n15852               NaN           10.0                NaN   \n15853          Linkedin           42.0               17.0   \n15854            Outros           30.0                9.0   \n15855               NaN          226.0              102.0   \n15856            Outros          125.0               98.0   \n\n       modulos_finalizados  certificados categoria  \n15852                  NaN           NaN   perfil6  \n15853                 15.0           NaN   perfil5  \n15854                  8.0           0.0   perfil5  \n15855                 93.0           1.0   perfil1  \n15856                 97.0           1.0   perfil1  ",
      "text/html": "<div>\n<style scoped>\n    .dataframe tbody tr th:only-of-type {\n        vertical-align: middle;\n    }\n\n    .dataframe tbody tr th {\n        vertical-align: top;\n    }\n\n    .dataframe thead th {\n        text-align: right;\n    }\n</style>\n<table border=\"1\" class=\"dataframe\">\n  <thead>\n    <tr style=\"text-align: right;\">\n      <th></th>\n      <th>id</th>\n      <th>graduacao</th>\n      <th>universidade</th>\n      <th>profissao</th>\n      <th>organizacao</th>\n      <th>pretende_fazer_cursos_lit</th>\n      <th>interesse_mba_lit</th>\n      <th>importante_ter_certificado</th>\n      <th>horas_semanais_estudo</th>\n      <th>como_conheceu_lit</th>\n      <th>total_modulos</th>\n      <th>modulos_iniciados</th>\n      <th>modulos_finalizados</th>\n      <th>certificados</th>\n      <th>categoria</th>\n    </tr>\n  </thead>\n  <tbody>\n    <tr>\n      <th>15852</th>\n      <td>620397030.0</td>\n      <td>Bacharelado</td>\n      <td>UFF</td>\n      <td>Outros</td>\n      <td>Borracha</td>\n      <td>0.0</td>\n      <td>0.0</td>\n      <td>1.0</td>\n      <td>8.0</td>\n      <td>NaN</td>\n      <td>10.0</td>\n      <td>NaN</td>\n      <td>NaN</td>\n      <td>NaN</td>\n      <td>perfil6</td>\n    </tr>\n    <tr>\n      <th>15853</th>\n      <td>229931283.0</td>\n      <td>Bacharelado</td>\n      <td>NaN</td>\n      <td>Advogado</td>\n      <td>NaN</td>\n      <td>0.0</td>\n      <td>0.0</td>\n      <td>1.0</td>\n      <td>7.0</td>\n      <td>Linkedin</td>\n      <td>42.0</td>\n      <td>17.0</td>\n      <td>15.0</td>\n      <td>NaN</td>\n      <td>perfil5</td>\n    </tr>\n    <tr>\n      <th>15854</th>\n      <td>480674907.0</td>\n      <td>Tecnólogo</td>\n      <td>UNIP</td>\n      <td>Sócio/Dono/Proprietário</td>\n      <td>NaN</td>\n      <td>0.0</td>\n      <td>NaN</td>\n      <td>1.0</td>\n      <td>7.0</td>\n      <td>Outros</td>\n      <td>30.0</td>\n      <td>9.0</td>\n      <td>8.0</td>\n      <td>0.0</td>\n      <td>perfil5</td>\n    </tr>\n    <tr>\n      <th>15855</th>\n      <td>559626807.0</td>\n      <td>SEM FORMAÇÃO</td>\n      <td>UNIVERSIDADE NOVE DE JULHO</td>\n      <td>Advogado</td>\n      <td>Estado</td>\n      <td>0.0</td>\n      <td>0.0</td>\n      <td>1.0</td>\n      <td>10.0</td>\n      <td>NaN</td>\n      <td>226.0</td>\n      <td>102.0</td>\n      <td>93.0</td>\n      <td>1.0</td>\n      <td>perfil1</td>\n    </tr>\n    <tr>\n      <th>15856</th>\n      <td>743652801.0</td>\n      <td>NaN</td>\n      <td>FGV-RJ</td>\n      <td>NaN</td>\n      <td>Siderurgica</td>\n      <td>1.0</td>\n      <td>1.0</td>\n      <td>1.0</td>\n      <td>9.0</td>\n      <td>Outros</td>\n      <td>125.0</td>\n      <td>98.0</td>\n      <td>97.0</td>\n      <td>1.0</td>\n      <td>perfil1</td>\n    </tr>\n  </tbody>\n</table>\n</div>"
     },
     "metadata": {},
     "execution_count": 2
    }
   ],
   "source": [
    "!wget --no-check-certificate --content-disposition https://raw.githubusercontent.com/vanderlei-test/dataset-3/master/training_dataset.csv\n",
    "df_training_dataset = pd.read_csv(r'training_dataset.csv')\n",
    "df_training_dataset.tail()"
   ]
  },
  {
   "cell_type": "markdown",
   "metadata": {},
   "source": [
    "Sobre o arquivo \"training_dataset.csv\", temos algumas informações gerais sobre os usuários da plataforma:\n",
    "\n",
    "**id**\n",
    "\n",
    "**graduacao**\n",
    "\n",
    "**universidade**\n",
    "\n",
    "**profissao**\n",
    "\n",
    "**organizacao**\n",
    "\n",
    "**pretende_fazer_cursos_lit**\n",
    "\n",
    "**interesse_mba_lit**\n",
    "\n",
    "**importante_ter_certificado**\n",
    "\n",
    "**horas_semanais_estudo**\n",
    "\n",
    "**como_conheceu_lit**\n",
    "\n",
    "**total_modulos**\n",
    "\n",
    "**modulos_iniciados**\n",
    "\n",
    "**modulos_finalizados**\n",
    "\n",
    "**certificados**\n",
    "\n",
    "**categoria**"
   ]
  },
  {
   "cell_type": "code",
   "execution_count": 3,
   "metadata": {
    "tags": []
   },
   "outputs": [
    {
     "output_type": "stream",
     "name": "stdout",
     "text": "<class 'pandas.core.frame.DataFrame'>\nRangeIndex: 15857 entries, 0 to 15856\nData columns (total 15 columns):\n #   Column                      Non-Null Count  Dtype  \n---  ------                      --------------  -----  \n 0   id                          13945 non-null  float64\n 1   graduacao                   13950 non-null  object \n 2   universidade                13920 non-null  object \n 3   profissao                   13977 non-null  object \n 4   organizacao                 13961 non-null  object \n 5   pretende_fazer_cursos_lit   13989 non-null  float64\n 6   interesse_mba_lit           14003 non-null  float64\n 7   importante_ter_certificado  13918 non-null  float64\n 8   horas_semanais_estudo       13959 non-null  float64\n 9   como_conheceu_lit           13915 non-null  object \n 10  total_modulos               13987 non-null  float64\n 11  modulos_iniciados           14044 non-null  float64\n 12  modulos_finalizados         13924 non-null  float64\n 13  certificados                13979 non-null  float64\n 14  categoria                   15857 non-null  object \ndtypes: float64(9), object(6)\nmemory usage: 1.8+ MB\n"
    }
   ],
   "source": [
    "df_training_dataset.info()"
   ]
  },
  {
   "cell_type": "code",
   "execution_count": 4,
   "metadata": {},
   "outputs": [
    {
     "output_type": "execute_result",
     "data": {
      "text/plain": "id                            13945\ngraduacao                         6\nuniversidade                     21\nprofissao                        12\norganizacao                      11\npretende_fazer_cursos_lit         2\ninteresse_mba_lit                 2\nimportante_ter_certificado        1\nhoras_semanais_estudo             9\ncomo_conheceu_lit                 9\ntotal_modulos                   578\nmodulos_iniciados               372\nmodulos_finalizados             339\ncertificados                     23\ncategoria                         6\ndtype: int64"
     },
     "metadata": {},
     "execution_count": 4
    }
   ],
   "source": [
    "df_training_dataset.nunique()"
   ]
  },
  {
   "cell_type": "markdown",
   "metadata": {},
   "source": [
    "<hr>\n",
    "\n",
    "## Detalhamento do desafio: classificação multiclasse\n",
    "\n",
    "Este é um desafio cujo objetivo de negócio é a segmentação dos usuários de uma plataforma de ensino. Para tal, podemos utilizar duas abordagens: aprendizado de máquina supervisionado (classificação) ou não-supervisionado (clustering). Neste desafio será aplicada a classificação, pois é disponível um dataset já com \"labels\", ou em outras palavras, já com exemplos de dados juntamente com a variável alvo.\n",
    "\n",
    "Na biblioteca scikit-learn temos diversos algoritmos para classificação. O participante é livre para utilizar o framework que desejar para completar esse desafio.\n",
    "\n",
    "Neste notebook será mostrado um exeplo de uso do algoritmo \"Decision Tree\" para classificar parte dos estudantes em seis diferentes perfís."
   ]
  },
  {
   "cell_type": "markdown",
   "metadata": {},
   "source": [
    "# Atenção!\n",
    "\n",
    "A coluna-alvo neste desafio é a coluna ``categoria``"
   ]
  },
  {
   "cell_type": "markdown",
   "metadata": {},
   "source": [
    "<hr>"
   ]
  },
  {
   "cell_type": "code",
   "execution_count": 5,
   "metadata": {},
   "outputs": [],
   "source": [
    "for column in ['horas_semanais_estudo','total_modulos','modulos_iniciados','modulos_finalizados','certificados']:\n",
    "    df_training_dataset[column] = df_training_dataset[column].fillna(df_training_dataset.groupby('categoria')[column].transform('mean'))"
   ]
  },
  {
   "cell_type": "code",
   "execution_count": 6,
   "metadata": {},
   "outputs": [],
   "source": [
    "most_common = df_training_dataset[[\n",
    "    'categoria',\n",
    "    'graduacao','universidade','profissao','organizacao','pretende_fazer_cursos_lit', 'interesse_mba_lit', 'importante_ter_certificado','como_conheceu_lit'\n",
    "]].groupby(['categoria']).agg(lambda x:x.value_counts().index[0])\n",
    "\n",
    "for column in ['graduacao','universidade','profissao','organizacao','pretende_fazer_cursos_lit', 'interesse_mba_lit', 'importante_ter_certificado','como_conheceu_lit']:\n",
    "    df_training_dataset[column] = df_training_dataset.apply(\n",
    "        lambda row: most_common.loc[row['categoria']][column] if pd.isna(row[column]) else row[column],\n",
    "        axis=1\n",
    "    )"
   ]
  },
  {
   "cell_type": "markdown",
   "metadata": {},
   "source": [
    "## Pre-processando o dataset antes do treinamento"
   ]
  },
  {
   "cell_type": "markdown",
   "metadata": {},
   "source": [
    "### Removendo todas as linhas que possuem algum valor nulos em determinadas colunas"
   ]
  },
  {
   "cell_type": "markdown",
   "metadata": {},
   "source": [
    "Usando o método Pandas **DataFrame.dropna()** você pode remover todas as linhas nulas do dataset.\n",
    "\n",
    "Docs: https://pandas.pydata.org/pandas-docs/stable/reference/api/pandas.DataFrame.dropna.html"
   ]
  },
  {
   "cell_type": "code",
   "execution_count": 7,
   "metadata": {
    "tags": []
   },
   "outputs": [
    {
     "output_type": "stream",
     "name": "stdout",
     "text": "Valores nulos no df_training_dataset antes da transformação DropNA: \n\nid                            1912\ngraduacao                        0\nuniversidade                     0\nprofissao                        0\norganizacao                      0\npretende_fazer_cursos_lit        0\ninteresse_mba_lit                0\nimportante_ter_certificado       0\nhoras_semanais_estudo            0\ncomo_conheceu_lit                0\ntotal_modulos                    0\nmodulos_iniciados                0\nmodulos_finalizados              0\ncertificados                     0\ncategoria                        0\ndtype: int64\n\n"
    }
   ],
   "source": [
    "# Exibindo os dados ausentes do conjunto de dados antes da primeira transformação (df)\n",
    "print(\"Valores nulos no df_training_dataset antes da transformação DropNA: \\n\\n{}\\n\".format(df_training_dataset.isnull().sum(axis = 0)))"
   ]
  },
  {
   "cell_type": "code",
   "execution_count": 8,
   "metadata": {},
   "outputs": [],
   "source": [
    "# Aplicando a função para deletar todas as linhas com valor NaN na coluna ``certificados'' e ``total_modulos'':\n",
    "df_training_dataset = df_training_dataset.dropna(axis='index', how='any', subset=['certificados', 'total_modulos'])"
   ]
  },
  {
   "cell_type": "code",
   "execution_count": 9,
   "metadata": {
    "scrolled": true,
    "tags": []
   },
   "outputs": [
    {
     "output_type": "stream",
     "name": "stdout",
     "text": "Valores nulos no df_training_dataset após a transformação DropNA: \n\nid                            1912\ngraduacao                        0\nuniversidade                     0\nprofissao                        0\norganizacao                      0\npretende_fazer_cursos_lit        0\ninteresse_mba_lit                0\nimportante_ter_certificado       0\nhoras_semanais_estudo            0\ncomo_conheceu_lit                0\ntotal_modulos                    0\nmodulos_iniciados                0\nmodulos_finalizados              0\ncertificados                     0\ncategoria                        0\ndtype: int64\n\n"
    }
   ],
   "source": [
    "# Exibindo os dados ausentes do conjunto de dados após a primeira transformação (df)\n",
    "print(\"Valores nulos no df_training_dataset após a transformação DropNA: \\n\\n{}\\n\".format(df_training_dataset.isnull().sum(axis = 0)))"
   ]
  },
  {
   "cell_type": "markdown",
   "metadata": {},
   "source": [
    "### Processando valores NaN com o SimpleImputer do sklearn\n",
    "\n",
    "Para os valores NaN, usaremos a substituição pela constante 0 como **exemplo**.\n",
    "\n",
    "Você pode escolher a estratégia que achar melhor para tratar os valores nulos :)\n",
    "\n",
    "Docs: https://scikit-learn.org/stable/modules/generated/sklearn.impute.SimpleImputer.html?highlight=simpleimputer#sklearn.impute.SimpleImputer"
   ]
  },
  {
   "cell_type": "code",
   "execution_count": 10,
   "metadata": {},
   "outputs": [],
   "source": [
    "from sklearn.impute import SimpleImputer\n",
    "import numpy as np\n",
    "\n",
    "\n",
    "impute_zeros = SimpleImputer(\n",
    "    missing_values=np.nan,\n",
    "    strategy='constant',\n",
    "    fill_value=0,\n",
    "    verbose=0,\n",
    "    copy=True\n",
    ")"
   ]
  },
  {
   "cell_type": "code",
   "execution_count": 11,
   "metadata": {
    "tags": []
   },
   "outputs": [
    {
     "output_type": "stream",
     "name": "stdout",
     "text": "Valores nulos no df_training_dataset antes da transformação SimpleImputer: \n\nid                            1912\ngraduacao                        0\nuniversidade                     0\nprofissao                        0\norganizacao                      0\npretende_fazer_cursos_lit        0\ninteresse_mba_lit                0\nimportante_ter_certificado       0\nhoras_semanais_estudo            0\ncomo_conheceu_lit                0\ntotal_modulos                    0\nmodulos_iniciados                0\nmodulos_finalizados              0\ncertificados                     0\ncategoria                        0\ndtype: int64\n\nValores nulos no df_training_dataset após a transformação SimpleImputer: \n\nid                            0\ngraduacao                     0\nuniversidade                  0\nprofissao                     0\norganizacao                   0\npretende_fazer_cursos_lit     0\ninteresse_mba_lit             0\nimportante_ter_certificado    0\nhoras_semanais_estudo         0\ncomo_conheceu_lit             0\ntotal_modulos                 0\nmodulos_iniciados             0\nmodulos_finalizados           0\ncertificados                  0\ncategoria                     0\ndtype: int64\n\n"
    }
   ],
   "source": [
    "# Exibindo os dados ausentes do conjunto de dados antes da primeira transformação (df)\n",
    "print(\"Valores nulos no df_training_dataset antes da transformação SimpleImputer: \\n\\n{}\\n\".format(df_training_dataset.isnull().sum(axis = 0)))\n",
    "\n",
    "# Aplicando a transformação ``SimpleImputer`` no conjunto de dados base\n",
    "impute_zeros.fit(X=df_training_dataset)\n",
    "\n",
    "# Reconstruindo um Pandas DataFrame com os resultados\n",
    "df_training_dataset_imputed = pd.DataFrame.from_records(\n",
    "    data=impute_zeros.transform(\n",
    "        X=df_training_dataset\n",
    "    ),\n",
    "    columns=df_training_dataset.columns\n",
    ")\n",
    "\n",
    "# Exibindo os dados ausentes do conjunto de dados após a primeira transformação (df)\n",
    "print(\"Valores nulos no df_training_dataset após a transformação SimpleImputer: \\n\\n{}\\n\".format(df_training_dataset_imputed.isnull().sum(axis = 0)))"
   ]
  },
  {
   "cell_type": "markdown",
   "metadata": {},
   "source": [
    "### Eliminando colunas indesejadas\n",
    "\n",
    "Vamos **demonstrar** abaixo como usar o método **DataFrame.drop()**.\n",
    "\n",
    "Docs: https://pandas.pydata.org/pandas-docs/stable/reference/api/pandas.DataFrame.drop.html"
   ]
  },
  {
   "cell_type": "code",
   "execution_count": 12,
   "metadata": {},
   "outputs": [
    {
     "output_type": "execute_result",
     "data": {
      "text/plain": "                id     graduacao                          universidade  \\\n15852  620397030.0   Bacharelado                                   UFF   \n15853  229931283.0   Bacharelado  UNIVERSIDADE PRESBITERIANA MACKENZIE   \n15854  480674907.0     Tecnólogo                                  UNIP   \n15855  559626807.0  SEM FORMAÇÃO            UNIVERSIDADE NOVE DE JULHO   \n15856  743652801.0   Bacharelado                                FGV-RJ   \n\n                     profissao  organizacao  pretende_fazer_cursos_lit  \\\n15852                   Outros     Borracha                        0.0   \n15853                 Advogado       Estado                        0.0   \n15854  Sócio/Dono/Proprietário       Estado                        0.0   \n15855                 Advogado       Estado                        0.0   \n15856          Analista Senior  Siderurgica                        1.0   \n\n       interesse_mba_lit  importante_ter_certificado  horas_semanais_estudo  \\\n15852                0.0                         1.0                    8.0   \n15853                0.0                         1.0                    7.0   \n15854                1.0                         1.0                    7.0   \n15855                0.0                         1.0                   10.0   \n15856                1.0                         1.0                    9.0   \n\n      como_conheceu_lit  total_modulos  modulos_iniciados  \\\n15852            Outros           10.0          10.621303   \n15853          Linkedin           42.0          17.000000   \n15854            Outros           30.0           9.000000   \n15855            Outros          226.0         102.000000   \n15856            Outros          125.0          98.000000   \n\n       modulos_finalizados  certificados categoria  \n15852             7.777862      0.080993   perfil6  \n15853            15.000000      0.056852   perfil5  \n15854             8.000000      0.000000   perfil5  \n15855            93.000000      1.000000   perfil1  \n15856            97.000000      1.000000   perfil1  ",
      "text/html": "<div>\n<style scoped>\n    .dataframe tbody tr th:only-of-type {\n        vertical-align: middle;\n    }\n\n    .dataframe tbody tr th {\n        vertical-align: top;\n    }\n\n    .dataframe thead th {\n        text-align: right;\n    }\n</style>\n<table border=\"1\" class=\"dataframe\">\n  <thead>\n    <tr style=\"text-align: right;\">\n      <th></th>\n      <th>id</th>\n      <th>graduacao</th>\n      <th>universidade</th>\n      <th>profissao</th>\n      <th>organizacao</th>\n      <th>pretende_fazer_cursos_lit</th>\n      <th>interesse_mba_lit</th>\n      <th>importante_ter_certificado</th>\n      <th>horas_semanais_estudo</th>\n      <th>como_conheceu_lit</th>\n      <th>total_modulos</th>\n      <th>modulos_iniciados</th>\n      <th>modulos_finalizados</th>\n      <th>certificados</th>\n      <th>categoria</th>\n    </tr>\n  </thead>\n  <tbody>\n    <tr>\n      <th>15852</th>\n      <td>620397030.0</td>\n      <td>Bacharelado</td>\n      <td>UFF</td>\n      <td>Outros</td>\n      <td>Borracha</td>\n      <td>0.0</td>\n      <td>0.0</td>\n      <td>1.0</td>\n      <td>8.0</td>\n      <td>Outros</td>\n      <td>10.0</td>\n      <td>10.621303</td>\n      <td>7.777862</td>\n      <td>0.080993</td>\n      <td>perfil6</td>\n    </tr>\n    <tr>\n      <th>15853</th>\n      <td>229931283.0</td>\n      <td>Bacharelado</td>\n      <td>UNIVERSIDADE PRESBITERIANA MACKENZIE</td>\n      <td>Advogado</td>\n      <td>Estado</td>\n      <td>0.0</td>\n      <td>0.0</td>\n      <td>1.0</td>\n      <td>7.0</td>\n      <td>Linkedin</td>\n      <td>42.0</td>\n      <td>17.000000</td>\n      <td>15.000000</td>\n      <td>0.056852</td>\n      <td>perfil5</td>\n    </tr>\n    <tr>\n      <th>15854</th>\n      <td>480674907.0</td>\n      <td>Tecnólogo</td>\n      <td>UNIP</td>\n      <td>Sócio/Dono/Proprietário</td>\n      <td>Estado</td>\n      <td>0.0</td>\n      <td>1.0</td>\n      <td>1.0</td>\n      <td>7.0</td>\n      <td>Outros</td>\n      <td>30.0</td>\n      <td>9.000000</td>\n      <td>8.000000</td>\n      <td>0.000000</td>\n      <td>perfil5</td>\n    </tr>\n    <tr>\n      <th>15855</th>\n      <td>559626807.0</td>\n      <td>SEM FORMAÇÃO</td>\n      <td>UNIVERSIDADE NOVE DE JULHO</td>\n      <td>Advogado</td>\n      <td>Estado</td>\n      <td>0.0</td>\n      <td>0.0</td>\n      <td>1.0</td>\n      <td>10.0</td>\n      <td>Outros</td>\n      <td>226.0</td>\n      <td>102.000000</td>\n      <td>93.000000</td>\n      <td>1.000000</td>\n      <td>perfil1</td>\n    </tr>\n    <tr>\n      <th>15856</th>\n      <td>743652801.0</td>\n      <td>Bacharelado</td>\n      <td>FGV-RJ</td>\n      <td>Analista Senior</td>\n      <td>Siderurgica</td>\n      <td>1.0</td>\n      <td>1.0</td>\n      <td>1.0</td>\n      <td>9.0</td>\n      <td>Outros</td>\n      <td>125.0</td>\n      <td>98.000000</td>\n      <td>97.000000</td>\n      <td>1.000000</td>\n      <td>perfil1</td>\n    </tr>\n  </tbody>\n</table>\n</div>"
     },
     "metadata": {},
     "execution_count": 12
    }
   ],
   "source": [
    "df_training_dataset_imputed.tail()"
   ]
  },
  {
   "cell_type": "code",
   "execution_count": 13,
   "metadata": {},
   "outputs": [],
   "source": [
    "df_training_dataset_rmcolumns = df_training_dataset_imputed.drop(columns=['id'], inplace=False)"
   ]
  },
  {
   "cell_type": "code",
   "execution_count": 14,
   "metadata": {},
   "outputs": [
    {
     "output_type": "execute_result",
     "data": {
      "text/plain": "          graduacao                          universidade  \\\n15852   Bacharelado                                   UFF   \n15853   Bacharelado  UNIVERSIDADE PRESBITERIANA MACKENZIE   \n15854     Tecnólogo                                  UNIP   \n15855  SEM FORMAÇÃO            UNIVERSIDADE NOVE DE JULHO   \n15856   Bacharelado                                FGV-RJ   \n\n                     profissao  organizacao  pretende_fazer_cursos_lit  \\\n15852                   Outros     Borracha                        0.0   \n15853                 Advogado       Estado                        0.0   \n15854  Sócio/Dono/Proprietário       Estado                        0.0   \n15855                 Advogado       Estado                        0.0   \n15856          Analista Senior  Siderurgica                        1.0   \n\n       interesse_mba_lit  importante_ter_certificado  horas_semanais_estudo  \\\n15852                0.0                         1.0                    8.0   \n15853                0.0                         1.0                    7.0   \n15854                1.0                         1.0                    7.0   \n15855                0.0                         1.0                   10.0   \n15856                1.0                         1.0                    9.0   \n\n      como_conheceu_lit  total_modulos  modulos_iniciados  \\\n15852            Outros           10.0          10.621303   \n15853          Linkedin           42.0          17.000000   \n15854            Outros           30.0           9.000000   \n15855            Outros          226.0         102.000000   \n15856            Outros          125.0          98.000000   \n\n       modulos_finalizados  certificados categoria  \n15852             7.777862      0.080993   perfil6  \n15853            15.000000      0.056852   perfil5  \n15854             8.000000      0.000000   perfil5  \n15855            93.000000      1.000000   perfil1  \n15856            97.000000      1.000000   perfil1  ",
      "text/html": "<div>\n<style scoped>\n    .dataframe tbody tr th:only-of-type {\n        vertical-align: middle;\n    }\n\n    .dataframe tbody tr th {\n        vertical-align: top;\n    }\n\n    .dataframe thead th {\n        text-align: right;\n    }\n</style>\n<table border=\"1\" class=\"dataframe\">\n  <thead>\n    <tr style=\"text-align: right;\">\n      <th></th>\n      <th>graduacao</th>\n      <th>universidade</th>\n      <th>profissao</th>\n      <th>organizacao</th>\n      <th>pretende_fazer_cursos_lit</th>\n      <th>interesse_mba_lit</th>\n      <th>importante_ter_certificado</th>\n      <th>horas_semanais_estudo</th>\n      <th>como_conheceu_lit</th>\n      <th>total_modulos</th>\n      <th>modulos_iniciados</th>\n      <th>modulos_finalizados</th>\n      <th>certificados</th>\n      <th>categoria</th>\n    </tr>\n  </thead>\n  <tbody>\n    <tr>\n      <th>15852</th>\n      <td>Bacharelado</td>\n      <td>UFF</td>\n      <td>Outros</td>\n      <td>Borracha</td>\n      <td>0.0</td>\n      <td>0.0</td>\n      <td>1.0</td>\n      <td>8.0</td>\n      <td>Outros</td>\n      <td>10.0</td>\n      <td>10.621303</td>\n      <td>7.777862</td>\n      <td>0.080993</td>\n      <td>perfil6</td>\n    </tr>\n    <tr>\n      <th>15853</th>\n      <td>Bacharelado</td>\n      <td>UNIVERSIDADE PRESBITERIANA MACKENZIE</td>\n      <td>Advogado</td>\n      <td>Estado</td>\n      <td>0.0</td>\n      <td>0.0</td>\n      <td>1.0</td>\n      <td>7.0</td>\n      <td>Linkedin</td>\n      <td>42.0</td>\n      <td>17.000000</td>\n      <td>15.000000</td>\n      <td>0.056852</td>\n      <td>perfil5</td>\n    </tr>\n    <tr>\n      <th>15854</th>\n      <td>Tecnólogo</td>\n      <td>UNIP</td>\n      <td>Sócio/Dono/Proprietário</td>\n      <td>Estado</td>\n      <td>0.0</td>\n      <td>1.0</td>\n      <td>1.0</td>\n      <td>7.0</td>\n      <td>Outros</td>\n      <td>30.0</td>\n      <td>9.000000</td>\n      <td>8.000000</td>\n      <td>0.000000</td>\n      <td>perfil5</td>\n    </tr>\n    <tr>\n      <th>15855</th>\n      <td>SEM FORMAÇÃO</td>\n      <td>UNIVERSIDADE NOVE DE JULHO</td>\n      <td>Advogado</td>\n      <td>Estado</td>\n      <td>0.0</td>\n      <td>0.0</td>\n      <td>1.0</td>\n      <td>10.0</td>\n      <td>Outros</td>\n      <td>226.0</td>\n      <td>102.000000</td>\n      <td>93.000000</td>\n      <td>1.000000</td>\n      <td>perfil1</td>\n    </tr>\n    <tr>\n      <th>15856</th>\n      <td>Bacharelado</td>\n      <td>FGV-RJ</td>\n      <td>Analista Senior</td>\n      <td>Siderurgica</td>\n      <td>1.0</td>\n      <td>1.0</td>\n      <td>1.0</td>\n      <td>9.0</td>\n      <td>Outros</td>\n      <td>125.0</td>\n      <td>98.000000</td>\n      <td>97.000000</td>\n      <td>1.000000</td>\n      <td>perfil1</td>\n    </tr>\n  </tbody>\n</table>\n</div>"
     },
     "metadata": {},
     "execution_count": 14
    }
   ],
   "source": [
    "df_training_dataset_rmcolumns.tail()"
   ]
  },
  {
   "cell_type": "markdown",
   "metadata": {},
   "source": [
    "# Atenção!\n",
    "\n",
    "As colunas removidas acima são apenas para fim de exemplo, você pode usar as colunas que quiser e inclusive criar novas colunas com dados que achar importantes!\n"
   ]
  },
  {
   "cell_type": "markdown",
   "metadata": {},
   "source": [
    "### Tratamento de de variáveis categóricas\n",
    "\n",
    "Como mencionado antes, os computadores não são bons com variáveis \"categóricas\" (ou strings).\n",
    "\n",
    "Dado uma coluna com variável categórica, o que podemos realizar é a codificação dessa coluna em múltiplas colunas contendo variáveis binárias. Esse processo é chamado de \"one-hot-encoding\" ou \"dummy encoding\". Se você não é familiarizado com esses termos, você pode pesquisar mais sobre isso na internet :)"
   ]
  },
  {
   "cell_type": "code",
   "execution_count": 15,
   "metadata": {},
   "outputs": [
    {
     "output_type": "execute_result",
     "data": {
      "text/plain": "       pretende_fazer_cursos_lit  interesse_mba_lit  \\\n15852                        0.0                0.0   \n15853                        0.0                0.0   \n15854                        0.0                1.0   \n15855                        0.0                0.0   \n15856                        1.0                1.0   \n\n       importante_ter_certificado  horas_semanais_estudo  total_modulos  \\\n15852                         1.0                    8.0           10.0   \n15853                         1.0                    7.0           42.0   \n15854                         1.0                    7.0           30.0   \n15855                         1.0                   10.0          226.0   \n15856                         1.0                    9.0          125.0   \n\n       modulos_iniciados  modulos_finalizados  certificados categoria  \\\n15852          10.621303             7.777862      0.080993   perfil6   \n15853          17.000000            15.000000      0.056852   perfil5   \n15854           9.000000             8.000000      0.000000   perfil5   \n15855         102.000000            93.000000      1.000000   perfil1   \n15856          98.000000            97.000000      1.000000   perfil1   \n\n       graduacao_Bacharelado  ...  organizacao_servicos  \\\n15852                      1  ...                     0   \n15853                      1  ...                     0   \n15854                      0  ...                     0   \n15855                      0  ...                     0   \n15856                      1  ...                     0   \n\n       como_conheceu_lit_Facebook  como_conheceu_lit_Google  \\\n15852                           0                         0   \n15853                           0                         0   \n15854                           0                         0   \n15855                           0                         0   \n15856                           0                         0   \n\n       como_conheceu_lit_Instagram  como_conheceu_lit_Linkedin  \\\n15852                            0                           0   \n15853                            0                           1   \n15854                            0                           0   \n15855                            0                           0   \n15856                            0                           0   \n\n       como_conheceu_lit_Minha empresa - benefício LITpass  \\\n15852                                                  0     \n15853                                                  0     \n15854                                                  0     \n15855                                                  0     \n15856                                                  0     \n\n       como_conheceu_lit_Mídia (revista/jornal/web)  como_conheceu_lit_Outros  \\\n15852                                             0                         1   \n15853                                             0                         0   \n15854                                             0                         1   \n15855                                             0                         1   \n15856                                             0                         1   \n\n       como_conheceu_lit_Saint Paul  como_conheceu_lit_YouTube  \n15852                             0                          0  \n15853                             0                          0  \n15854                             0                          0  \n15855                             0                          0  \n15856                             0                          0  \n\n[5 rows x 68 columns]",
      "text/html": "<div>\n<style scoped>\n    .dataframe tbody tr th:only-of-type {\n        vertical-align: middle;\n    }\n\n    .dataframe tbody tr th {\n        vertical-align: top;\n    }\n\n    .dataframe thead th {\n        text-align: right;\n    }\n</style>\n<table border=\"1\" class=\"dataframe\">\n  <thead>\n    <tr style=\"text-align: right;\">\n      <th></th>\n      <th>pretende_fazer_cursos_lit</th>\n      <th>interesse_mba_lit</th>\n      <th>importante_ter_certificado</th>\n      <th>horas_semanais_estudo</th>\n      <th>total_modulos</th>\n      <th>modulos_iniciados</th>\n      <th>modulos_finalizados</th>\n      <th>certificados</th>\n      <th>categoria</th>\n      <th>graduacao_Bacharelado</th>\n      <th>...</th>\n      <th>organizacao_servicos</th>\n      <th>como_conheceu_lit_Facebook</th>\n      <th>como_conheceu_lit_Google</th>\n      <th>como_conheceu_lit_Instagram</th>\n      <th>como_conheceu_lit_Linkedin</th>\n      <th>como_conheceu_lit_Minha empresa - benefício LITpass</th>\n      <th>como_conheceu_lit_Mídia (revista/jornal/web)</th>\n      <th>como_conheceu_lit_Outros</th>\n      <th>como_conheceu_lit_Saint Paul</th>\n      <th>como_conheceu_lit_YouTube</th>\n    </tr>\n  </thead>\n  <tbody>\n    <tr>\n      <th>15852</th>\n      <td>0.0</td>\n      <td>0.0</td>\n      <td>1.0</td>\n      <td>8.0</td>\n      <td>10.0</td>\n      <td>10.621303</td>\n      <td>7.777862</td>\n      <td>0.080993</td>\n      <td>perfil6</td>\n      <td>1</td>\n      <td>...</td>\n      <td>0</td>\n      <td>0</td>\n      <td>0</td>\n      <td>0</td>\n      <td>0</td>\n      <td>0</td>\n      <td>0</td>\n      <td>1</td>\n      <td>0</td>\n      <td>0</td>\n    </tr>\n    <tr>\n      <th>15853</th>\n      <td>0.0</td>\n      <td>0.0</td>\n      <td>1.0</td>\n      <td>7.0</td>\n      <td>42.0</td>\n      <td>17.000000</td>\n      <td>15.000000</td>\n      <td>0.056852</td>\n      <td>perfil5</td>\n      <td>1</td>\n      <td>...</td>\n      <td>0</td>\n      <td>0</td>\n      <td>0</td>\n      <td>0</td>\n      <td>1</td>\n      <td>0</td>\n      <td>0</td>\n      <td>0</td>\n      <td>0</td>\n      <td>0</td>\n    </tr>\n    <tr>\n      <th>15854</th>\n      <td>0.0</td>\n      <td>1.0</td>\n      <td>1.0</td>\n      <td>7.0</td>\n      <td>30.0</td>\n      <td>9.000000</td>\n      <td>8.000000</td>\n      <td>0.000000</td>\n      <td>perfil5</td>\n      <td>0</td>\n      <td>...</td>\n      <td>0</td>\n      <td>0</td>\n      <td>0</td>\n      <td>0</td>\n      <td>0</td>\n      <td>0</td>\n      <td>0</td>\n      <td>1</td>\n      <td>0</td>\n      <td>0</td>\n    </tr>\n    <tr>\n      <th>15855</th>\n      <td>0.0</td>\n      <td>0.0</td>\n      <td>1.0</td>\n      <td>10.0</td>\n      <td>226.0</td>\n      <td>102.000000</td>\n      <td>93.000000</td>\n      <td>1.000000</td>\n      <td>perfil1</td>\n      <td>0</td>\n      <td>...</td>\n      <td>0</td>\n      <td>0</td>\n      <td>0</td>\n      <td>0</td>\n      <td>0</td>\n      <td>0</td>\n      <td>0</td>\n      <td>1</td>\n      <td>0</td>\n      <td>0</td>\n    </tr>\n    <tr>\n      <th>15856</th>\n      <td>1.0</td>\n      <td>1.0</td>\n      <td>1.0</td>\n      <td>9.0</td>\n      <td>125.0</td>\n      <td>98.000000</td>\n      <td>97.000000</td>\n      <td>1.000000</td>\n      <td>perfil1</td>\n      <td>1</td>\n      <td>...</td>\n      <td>0</td>\n      <td>0</td>\n      <td>0</td>\n      <td>0</td>\n      <td>0</td>\n      <td>0</td>\n      <td>0</td>\n      <td>1</td>\n      <td>0</td>\n      <td>0</td>\n    </tr>\n  </tbody>\n</table>\n<p>5 rows × 68 columns</p>\n</div>"
     },
     "metadata": {},
     "execution_count": 15
    }
   ],
   "source": [
    "# Tratando variáveis categóricas com o método Pandas ``get_dummies()''\n",
    "df_training = pd.get_dummies(df_training_dataset_rmcolumns, columns=['graduacao','universidade','profissao','organizacao','como_conheceu_lit'])\n",
    "df_training.tail()"
   ]
  },
  {
   "cell_type": "markdown",
   "metadata": {},
   "source": [
    "# Atenção!\n",
    "\n",
    "A coluna **categoria** deve ser mantida como uma string. Você não precisa processar/codificar a variável-alvo."
   ]
  },
  {
   "cell_type": "markdown",
   "metadata": {},
   "source": [
    "<hr>"
   ]
  },
  {
   "cell_type": "markdown",
   "metadata": {},
   "source": [
    "## Treinando um classificador com base em uma árvore de decisão"
   ]
  },
  {
   "cell_type": "markdown",
   "metadata": {},
   "source": [
    "### Selecionando FEATURES e definindo a variável TARGET"
   ]
  },
  {
   "cell_type": "code",
   "execution_count": 16,
   "metadata": {},
   "outputs": [
    {
     "output_type": "execute_result",
     "data": {
      "text/plain": "Index(['pretende_fazer_cursos_lit', 'interesse_mba_lit',\n       'importante_ter_certificado', 'horas_semanais_estudo', 'total_modulos',\n       'modulos_iniciados', 'modulos_finalizados', 'certificados', 'categoria',\n       'graduacao_Bacharelado', 'graduacao_Especialização',\n       'graduacao_Licenciatura', 'graduacao_MBA', 'graduacao_SEM FORMAÇÃO',\n       'graduacao_Tecnólogo',\n       'universidade_CENTRO UNIVERSITÁRIO ESTÁCIO DA SÁ',\n       'universidade_Escola Paulista de Direito',\n       'universidade_FACULDADE ANHANGUERA', 'universidade_FATEC',\n       'universidade_FGV-RJ',\n       'universidade_INSPER INSTITUTO DE ENSINO E PESQUISA',\n       'universidade_UEPB', 'universidade_UFF', 'universidade_UFPE',\n       'universidade_UFRJ', 'universidade_UFRN', 'universidade_UFSCar',\n       'universidade_UNICAMP', 'universidade_UNIP',\n       'universidade_UNIVERSIDADE CRUZEIRO DO SUL',\n       'universidade_UNIVERSIDADE ESTADUAL DE PONTA GROSSA',\n       'universidade_UNIVERSIDADE NOVE DE JULHO',\n       'universidade_UNIVERSIDADE PRESBITERIANA MACKENZIE', 'universidade_USP',\n       'universidade_Unesp',\n       'universidade_Universidade Metodista de Sao Paulo',\n       'profissao_Advogado', 'profissao_Analista', 'profissao_Analista Senior',\n       'profissao_Assessor', 'profissao_Coordenador', 'profissao_Diretor',\n       'profissao_Engenheiro', 'profissao_Gerente', 'profissao_Outros',\n       'profissao_SEM EXPERIÊNCIA', 'profissao_Supervisor',\n       'profissao_Sócio/Dono/Proprietário', 'organizacao_Borracha',\n       'organizacao_Eletrodomesticos', 'organizacao_Eletroeletronicos',\n       'organizacao_Entretenimento', 'organizacao_Estado',\n       'organizacao_Laminados', 'organizacao_Montadora',\n       'organizacao_Oleo e Gas', 'organizacao_Siderurgica',\n       'organizacao_e-commerce', 'organizacao_servicos',\n       'como_conheceu_lit_Facebook', 'como_conheceu_lit_Google',\n       'como_conheceu_lit_Instagram', 'como_conheceu_lit_Linkedin',\n       'como_conheceu_lit_Minha empresa - benefício LITpass',\n       'como_conheceu_lit_Mídia (revista/jornal/web)',\n       'como_conheceu_lit_Outros', 'como_conheceu_lit_Saint Paul',\n       'como_conheceu_lit_YouTube'],\n      dtype='object')"
     },
     "metadata": {},
     "execution_count": 16
    }
   ],
   "source": [
    "df_training.columns"
   ]
  },
  {
   "cell_type": "code",
   "execution_count": 17,
   "metadata": {},
   "outputs": [],
   "source": [
    "features = df_training[\n",
    "    [\n",
    "        'pretende_fazer_cursos_lit', 'interesse_mba_lit',\n",
    "       'importante_ter_certificado', 'horas_semanais_estudo', 'total_modulos',\n",
    "       'modulos_iniciados', 'modulos_finalizados', 'certificados',\n",
    "       'graduacao_Bacharelado', 'graduacao_Especialização',\n",
    "       'graduacao_Licenciatura', 'graduacao_MBA', 'graduacao_SEM FORMAÇÃO',\n",
    "       'graduacao_Tecnólogo',\n",
    "       'universidade_CENTRO UNIVERSITÁRIO ESTÁCIO DA SÁ',\n",
    "       'universidade_Escola Paulista de Direito',\n",
    "       'universidade_FACULDADE ANHANGUERA', 'universidade_FATEC',\n",
    "       'universidade_FGV-RJ',\n",
    "       'universidade_INSPER INSTITUTO DE ENSINO E PESQUISA',\n",
    "       'universidade_UEPB', 'universidade_UFF', 'universidade_UFPE',\n",
    "       'universidade_UFRJ', 'universidade_UFRN', 'universidade_UFSCar',\n",
    "       'universidade_UNICAMP', 'universidade_UNIP',\n",
    "       'universidade_UNIVERSIDADE CRUZEIRO DO SUL',\n",
    "       'universidade_UNIVERSIDADE ESTADUAL DE PONTA GROSSA',\n",
    "       'universidade_UNIVERSIDADE NOVE DE JULHO',\n",
    "       'universidade_UNIVERSIDADE PRESBITERIANA MACKENZIE', 'universidade_USP',\n",
    "       'universidade_Unesp',\n",
    "       'universidade_Universidade Metodista de Sao Paulo',\n",
    "       'profissao_Advogado', 'profissao_Analista', 'profissao_Analista Senior',\n",
    "       'profissao_Assessor', 'profissao_Coordenador', 'profissao_Diretor',\n",
    "       'profissao_Engenheiro', 'profissao_Gerente', 'profissao_Outros',\n",
    "       'profissao_SEM EXPERIÊNCIA', 'profissao_Supervisor',\n",
    "       'profissao_Sócio/Dono/Proprietário', 'organizacao_Borracha',\n",
    "       'organizacao_Eletrodomesticos', 'organizacao_Eletroeletronicos',\n",
    "       'organizacao_Entretenimento', 'organizacao_Estado',\n",
    "       'organizacao_Laminados', 'organizacao_Montadora',\n",
    "       'organizacao_Oleo e Gas', 'organizacao_Siderurgica',\n",
    "       'organizacao_e-commerce', 'organizacao_servicos',\n",
    "       'como_conheceu_lit_Facebook', 'como_conheceu_lit_Google',\n",
    "       'como_conheceu_lit_Instagram', 'como_conheceu_lit_Linkedin',\n",
    "       'como_conheceu_lit_Minha empresa - benefício LITpass',\n",
    "       'como_conheceu_lit_Mídia (revista/jornal/web)',\n",
    "       'como_conheceu_lit_Outros', 'como_conheceu_lit_Saint Paul',\n",
    "       'como_conheceu_lit_YouTube'\n",
    "    ]\n",
    "]\n",
    "target = df_training['categoria']  ## NÃO TROQUE O NOME DA VARIÁVEL TARGET."
   ]
  },
  {
   "cell_type": "markdown",
   "metadata": {},
   "source": [
    "### Dividindo nosso conjunto de dados em conjuntos de treinamento e teste"
   ]
  },
  {
   "cell_type": "code",
   "execution_count": 41,
   "metadata": {},
   "outputs": [],
   "source": [
    "from sklearn.model_selection import train_test_split\n",
    "\n",
    "X_train, X_test, y_train, y_test = train_test_split(features, target, test_size=0.00001, random_state=133)"
   ]
  },
  {
   "cell_type": "code",
   "execution_count": 42,
   "metadata": {},
   "outputs": [],
   "source": [
    "from imblearn.over_sampling import SMOTE\n",
    "smt = SMOTE(random_state=0)\n",
    "X_train_SMOTE, y_train_SMOTE = smt.fit_sample(X_train, y_train)"
   ]
  },
  {
   "cell_type": "markdown",
   "metadata": {},
   "source": [
    "### Treinando uma árvore de decisão"
   ]
  },
  {
   "cell_type": "code",
   "execution_count": 43,
   "metadata": {},
   "outputs": [],
   "source": [
    "# Método para creacion de modelos basados en arbol de desición\n",
    "from sklearn.tree import DecisionTreeClassifier\n",
    "import xgboost as xgb\n",
    "dtc = xgb.XGBClassifier(learning_rate=0.005,  \n",
    "                      n_estimators=1000, \n",
    "                      max_depth=50, \n",
    "                      gamma=10).fit(X_train_SMOTE, y_train_SMOTE)"
   ]
  },
  {
   "cell_type": "markdown",
   "metadata": {},
   "source": [
    "### Fazendo previsões na amostra de teste"
   ]
  },
  {
   "cell_type": "code",
   "execution_count": 44,
   "metadata": {
    "tags": []
   },
   "outputs": [
    {
     "output_type": "stream",
     "name": "stdout",
     "text": "['perfil2']\n"
    }
   ],
   "source": [
    "y_pred = dtc.predict(X_test)\n",
    "print(y_pred)"
   ]
  },
  {
   "cell_type": "markdown",
   "metadata": {},
   "source": [
    "### Analisando a qualidade do modelo através da matriz de confusão"
   ]
  },
  {
   "cell_type": "code",
   "execution_count": 45,
   "metadata": {},
   "outputs": [],
   "source": [
    "import matplotlib.pyplot as plt\n",
    "import numpy as np\n",
    "import itertools\n",
    "\n",
    "\n",
    "def plot_confusion_matrix(cm, target_names, title='Confusion matrix', cmap=None, normalize=True):\n",
    "    accuracy = np.trace(cm) / float(np.sum(cm))\n",
    "    misclass = 1 - accuracy\n",
    "    if cmap is None:\n",
    "        cmap = plt.get_cmap('Blues')\n",
    "    plt.figure(figsize=(8, 6))\n",
    "    plt.imshow(cm, interpolation='nearest', cmap=cmap)\n",
    "    plt.title(title)\n",
    "    plt.colorbar()\n",
    "    if target_names is not None:\n",
    "        tick_marks = np.arange(len(target_names))\n",
    "        plt.xticks(tick_marks, target_names, rotation=45)\n",
    "        plt.yticks(tick_marks, target_names)\n",
    "    if normalize:\n",
    "        cm = cm.astype('float') / cm.sum(axis=1)[:, np.newaxis]\n",
    "    thresh = cm.max() / 1.5 if normalize else cm.max() / 2\n",
    "    for i, j in itertools.product(range(cm.shape[0]), range(cm.shape[1])):\n",
    "        if normalize:\n",
    "            plt.text(j, i, \"{:0.4f}\".format(cm[i, j]),\n",
    "                     horizontalalignment=\"center\",\n",
    "                     color=\"white\" if cm[i, j] > thresh else \"black\")\n",
    "        else:\n",
    "            plt.text(j, i, \"{:,}\".format(cm[i, j]),\n",
    "                     horizontalalignment=\"center\",\n",
    "                     color=\"white\" if cm[i, j] > thresh else \"black\")\n",
    "    plt.tight_layout()\n",
    "    plt.ylabel('True label')\n",
    "    plt.xlabel('Predicted label\\naccuracy={:0.4f}; misclass={:0.4f}'.format(accuracy, misclass))\n",
    "    plt.show()"
   ]
  },
  {
   "cell_type": "code",
   "execution_count": 46,
   "metadata": {},
   "outputs": [
    {
     "output_type": "display_data",
     "data": {
      "text/plain": "<Figure size 576x432 with 2 Axes>",
      "image/svg+xml": "<?xml version=\"1.0\" encoding=\"utf-8\" standalone=\"no\"?>\n<!DOCTYPE svg PUBLIC \"-//W3C//DTD SVG 1.1//EN\"\n  \"http://www.w3.org/Graphics/SVG/1.1/DTD/svg11.dtd\">\n<!-- Created with matplotlib (https://matplotlib.org/) -->\n<svg height=\"448.426146pt\" version=\"1.1\" viewBox=\"0 0 505.464288 448.426146\" width=\"505.464288pt\" xmlns=\"http://www.w3.org/2000/svg\" xmlns:xlink=\"http://www.w3.org/1999/xlink\">\n <metadata>\n  <rdf:RDF xmlns:cc=\"http://creativecommons.org/ns#\" xmlns:dc=\"http://purl.org/dc/elements/1.1/\" xmlns:rdf=\"http://www.w3.org/1999/02/22-rdf-syntax-ns#\">\n   <cc:Work>\n    <dc:type rdf:resource=\"http://purl.org/dc/dcmitype/StillImage\"/>\n    <dc:date>2020-09-04T18:38:54.280285</dc:date>\n    <dc:format>image/svg+xml</dc:format>\n    <dc:creator>\n     <cc:Agent>\n      <dc:title>Matplotlib v3.3.1, https://matplotlib.org/</dc:title>\n     </cc:Agent>\n    </dc:creator>\n   </cc:Work>\n  </rdf:RDF>\n </metadata>\n <defs>\n  <style type=\"text/css\">*{stroke-linecap:butt;stroke-linejoin:round;}</style>\n </defs>\n <g id=\"figure_1\">\n  <g id=\"patch_1\">\n   <path d=\"M 0 448.426146 \nL 505.464288 448.426146 \nL 505.464288 0 \nL 0 0 \nz\n\" style=\"fill:none;\"/>\n  </g>\n  <g id=\"axes_1\">\n   <g id=\"patch_2\">\n    <path d=\"M 59.929688 379.842863 \nL 417.454426 379.842863 \nL 417.454426 22.318125 \nL 59.929688 22.318125 \nz\n\" style=\"fill:#ffffff;\"/>\n   </g>\n   <g clip-path=\"url(#pa2a0c9089b)\">\n    <image height=\"66\" id=\"image09c4f6731c\" transform=\"scale(1 -1)translate(0 -66)\" width=\"66\" x=\"59.929688\" xlink:href=\"data:image/png;base64,\niVBORw0KGgoAAAANSUhEUgAAAEIAAABCCAYAAADjVADoAAAAj0lEQVR4nO3QQRHAIADAMIZcvE3O9MCnHtgjUdDrs95vD8a8HfAXRsSIGBEjYkSMiBExIkbEiBgRI2JEjIgRMSJGxIgYESNiRIyIETEiRsSIGBEjYkSMiBExIkbEiBgRI2JEjIgRMSJGxIgYESNiRIyIETEiRsSIGBEjYkSMiBExIkbEiBgRI2JEjIgRMSIHQTQDb6EtjZQAAAAASUVORK5CYII=\" y=\"-21.322623\"/>\n   </g>\n   <g id=\"matplotlib.axis_1\">\n    <g id=\"xtick_1\">\n     <g id=\"line2d_1\">\n      <defs>\n       <path d=\"M 0 0 \nL 0 3.5 \n\" id=\"m9420ce0df9\" style=\"stroke:#000000;stroke-width:0.8;\"/>\n      </defs>\n      <g>\n       <use style=\"stroke:#000000;stroke-width:0.8;\" x=\"92.431936\" xlink:href=\"#m9420ce0df9\" y=\"379.842863\"/>\n      </g>\n     </g>\n     <g id=\"text_1\">\n      <!-- parfil1 -->\n      <g transform=\"translate(83.060009 414.86197)rotate(-45)scale(0.1 -0.1)\">\n       <defs>\n        <path d=\"M 18.109375 8.203125 \nL 18.109375 -20.796875 \nL 9.078125 -20.796875 \nL 9.078125 54.6875 \nL 18.109375 54.6875 \nL 18.109375 46.390625 \nQ 20.953125 51.265625 25.265625 53.625 \nQ 29.59375 56 35.59375 56 \nQ 45.5625 56 51.78125 48.09375 \nQ 58.015625 40.1875 58.015625 27.296875 \nQ 58.015625 14.40625 51.78125 6.484375 \nQ 45.5625 -1.421875 35.59375 -1.421875 \nQ 29.59375 -1.421875 25.265625 0.953125 \nQ 20.953125 3.328125 18.109375 8.203125 \nz\nM 48.6875 27.296875 \nQ 48.6875 37.203125 44.609375 42.84375 \nQ 40.53125 48.484375 33.40625 48.484375 \nQ 26.265625 48.484375 22.1875 42.84375 \nQ 18.109375 37.203125 18.109375 27.296875 \nQ 18.109375 17.390625 22.1875 11.75 \nQ 26.265625 6.109375 33.40625 6.109375 \nQ 40.53125 6.109375 44.609375 11.75 \nQ 48.6875 17.390625 48.6875 27.296875 \nz\n\" id=\"DejaVuSans-112\"/>\n        <path d=\"M 34.28125 27.484375 \nQ 23.390625 27.484375 19.1875 25 \nQ 14.984375 22.515625 14.984375 16.5 \nQ 14.984375 11.71875 18.140625 8.90625 \nQ 21.296875 6.109375 26.703125 6.109375 \nQ 34.1875 6.109375 38.703125 11.40625 \nQ 43.21875 16.703125 43.21875 25.484375 \nL 43.21875 27.484375 \nz\nM 52.203125 31.203125 \nL 52.203125 0 \nL 43.21875 0 \nL 43.21875 8.296875 \nQ 40.140625 3.328125 35.546875 0.953125 \nQ 30.953125 -1.421875 24.3125 -1.421875 \nQ 15.921875 -1.421875 10.953125 3.296875 \nQ 6 8.015625 6 15.921875 \nQ 6 25.140625 12.171875 29.828125 \nQ 18.359375 34.515625 30.609375 34.515625 \nL 43.21875 34.515625 \nL 43.21875 35.40625 \nQ 43.21875 41.609375 39.140625 45 \nQ 35.0625 48.390625 27.6875 48.390625 \nQ 23 48.390625 18.546875 47.265625 \nQ 14.109375 46.140625 10.015625 43.890625 \nL 10.015625 52.203125 \nQ 14.9375 54.109375 19.578125 55.046875 \nQ 24.21875 56 28.609375 56 \nQ 40.484375 56 46.34375 49.84375 \nQ 52.203125 43.703125 52.203125 31.203125 \nz\n\" id=\"DejaVuSans-97\"/>\n        <path d=\"M 41.109375 46.296875 \nQ 39.59375 47.171875 37.8125 47.578125 \nQ 36.03125 48 33.890625 48 \nQ 26.265625 48 22.1875 43.046875 \nQ 18.109375 38.09375 18.109375 28.8125 \nL 18.109375 0 \nL 9.078125 0 \nL 9.078125 54.6875 \nL 18.109375 54.6875 \nL 18.109375 46.1875 \nQ 20.953125 51.171875 25.484375 53.578125 \nQ 30.03125 56 36.53125 56 \nQ 37.453125 56 38.578125 55.875 \nQ 39.703125 55.765625 41.0625 55.515625 \nz\n\" id=\"DejaVuSans-114\"/>\n        <path d=\"M 37.109375 75.984375 \nL 37.109375 68.5 \nL 28.515625 68.5 \nQ 23.6875 68.5 21.796875 66.546875 \nQ 19.921875 64.59375 19.921875 59.515625 \nL 19.921875 54.6875 \nL 34.71875 54.6875 \nL 34.71875 47.703125 \nL 19.921875 47.703125 \nL 19.921875 0 \nL 10.890625 0 \nL 10.890625 47.703125 \nL 2.296875 47.703125 \nL 2.296875 54.6875 \nL 10.890625 54.6875 \nL 10.890625 58.5 \nQ 10.890625 67.625 15.140625 71.796875 \nQ 19.390625 75.984375 28.609375 75.984375 \nz\n\" id=\"DejaVuSans-102\"/>\n        <path d=\"M 9.421875 54.6875 \nL 18.40625 54.6875 \nL 18.40625 0 \nL 9.421875 0 \nz\nM 9.421875 75.984375 \nL 18.40625 75.984375 \nL 18.40625 64.59375 \nL 9.421875 64.59375 \nz\n\" id=\"DejaVuSans-105\"/>\n        <path d=\"M 9.421875 75.984375 \nL 18.40625 75.984375 \nL 18.40625 0 \nL 9.421875 0 \nz\n\" id=\"DejaVuSans-108\"/>\n        <path d=\"M 12.40625 8.296875 \nL 28.515625 8.296875 \nL 28.515625 63.921875 \nL 10.984375 60.40625 \nL 10.984375 69.390625 \nL 28.421875 72.90625 \nL 38.28125 72.90625 \nL 38.28125 8.296875 \nL 54.390625 8.296875 \nL 54.390625 0 \nL 12.40625 0 \nz\n\" id=\"DejaVuSans-49\"/>\n       </defs>\n       <use xlink:href=\"#DejaVuSans-112\"/>\n       <use x=\"63.476562\" xlink:href=\"#DejaVuSans-97\"/>\n       <use x=\"124.755859\" xlink:href=\"#DejaVuSans-114\"/>\n       <use x=\"165.869141\" xlink:href=\"#DejaVuSans-102\"/>\n       <use x=\"201.074219\" xlink:href=\"#DejaVuSans-105\"/>\n       <use x=\"228.857422\" xlink:href=\"#DejaVuSans-108\"/>\n       <use x=\"256.640625\" xlink:href=\"#DejaVuSans-49\"/>\n      </g>\n     </g>\n    </g>\n    <g id=\"xtick_2\">\n     <g id=\"line2d_2\">\n      <g>\n       <use style=\"stroke:#000000;stroke-width:0.8;\" x=\"157.436434\" xlink:href=\"#m9420ce0df9\" y=\"379.842863\"/>\n      </g>\n     </g>\n     <g id=\"text_2\">\n      <!-- perfil2 -->\n      <g transform=\"translate(148.055669 414.879647)rotate(-45)scale(0.1 -0.1)\">\n       <defs>\n        <path d=\"M 56.203125 29.59375 \nL 56.203125 25.203125 \nL 14.890625 25.203125 \nQ 15.484375 15.921875 20.484375 11.0625 \nQ 25.484375 6.203125 34.421875 6.203125 \nQ 39.59375 6.203125 44.453125 7.46875 \nQ 49.3125 8.734375 54.109375 11.28125 \nL 54.109375 2.78125 \nQ 49.265625 0.734375 44.1875 -0.34375 \nQ 39.109375 -1.421875 33.890625 -1.421875 \nQ 20.796875 -1.421875 13.15625 6.1875 \nQ 5.515625 13.8125 5.515625 26.8125 \nQ 5.515625 40.234375 12.765625 48.109375 \nQ 20.015625 56 32.328125 56 \nQ 43.359375 56 49.78125 48.890625 \nQ 56.203125 41.796875 56.203125 29.59375 \nz\nM 47.21875 32.234375 \nQ 47.125 39.59375 43.09375 43.984375 \nQ 39.0625 48.390625 32.421875 48.390625 \nQ 24.90625 48.390625 20.390625 44.140625 \nQ 15.875 39.890625 15.1875 32.171875 \nz\n\" id=\"DejaVuSans-101\"/>\n        <path d=\"M 19.1875 8.296875 \nL 53.609375 8.296875 \nL 53.609375 0 \nL 7.328125 0 \nL 7.328125 8.296875 \nQ 12.9375 14.109375 22.625 23.890625 \nQ 32.328125 33.6875 34.8125 36.53125 \nQ 39.546875 41.84375 41.421875 45.53125 \nQ 43.3125 49.21875 43.3125 52.78125 \nQ 43.3125 58.59375 39.234375 62.25 \nQ 35.15625 65.921875 28.609375 65.921875 \nQ 23.96875 65.921875 18.8125 64.3125 \nQ 13.671875 62.703125 7.8125 59.421875 \nL 7.8125 69.390625 \nQ 13.765625 71.78125 18.9375 73 \nQ 24.125 74.21875 28.421875 74.21875 \nQ 39.75 74.21875 46.484375 68.546875 \nQ 53.21875 62.890625 53.21875 53.421875 \nQ 53.21875 48.921875 51.53125 44.890625 \nQ 49.859375 40.875 45.40625 35.40625 \nQ 44.1875 33.984375 37.640625 27.21875 \nQ 31.109375 20.453125 19.1875 8.296875 \nz\n\" id=\"DejaVuSans-50\"/>\n       </defs>\n       <use xlink:href=\"#DejaVuSans-112\"/>\n       <use x=\"63.476562\" xlink:href=\"#DejaVuSans-101\"/>\n       <use x=\"125\" xlink:href=\"#DejaVuSans-114\"/>\n       <use x=\"166.113281\" xlink:href=\"#DejaVuSans-102\"/>\n       <use x=\"201.318359\" xlink:href=\"#DejaVuSans-105\"/>\n       <use x=\"229.101562\" xlink:href=\"#DejaVuSans-108\"/>\n       <use x=\"256.884766\" xlink:href=\"#DejaVuSans-50\"/>\n      </g>\n     </g>\n    </g>\n    <g id=\"xtick_3\">\n     <g id=\"line2d_3\">\n      <g>\n       <use style=\"stroke:#000000;stroke-width:0.8;\" x=\"222.440932\" xlink:href=\"#m9420ce0df9\" y=\"379.842863\"/>\n      </g>\n     </g>\n     <g id=\"text_3\">\n      <!-- perfil3 -->\n      <g transform=\"translate(213.060166 414.879647)rotate(-45)scale(0.1 -0.1)\">\n       <defs>\n        <path d=\"M 40.578125 39.3125 \nQ 47.65625 37.796875 51.625 33 \nQ 55.609375 28.21875 55.609375 21.1875 \nQ 55.609375 10.40625 48.1875 4.484375 \nQ 40.765625 -1.421875 27.09375 -1.421875 \nQ 22.515625 -1.421875 17.65625 -0.515625 \nQ 12.796875 0.390625 7.625 2.203125 \nL 7.625 11.71875 \nQ 11.71875 9.328125 16.59375 8.109375 \nQ 21.484375 6.890625 26.8125 6.890625 \nQ 36.078125 6.890625 40.9375 10.546875 \nQ 45.796875 14.203125 45.796875 21.1875 \nQ 45.796875 27.640625 41.28125 31.265625 \nQ 36.765625 34.90625 28.71875 34.90625 \nL 20.21875 34.90625 \nL 20.21875 43.015625 \nL 29.109375 43.015625 \nQ 36.375 43.015625 40.234375 45.921875 \nQ 44.09375 48.828125 44.09375 54.296875 \nQ 44.09375 59.90625 40.109375 62.90625 \nQ 36.140625 65.921875 28.71875 65.921875 \nQ 24.65625 65.921875 20.015625 65.03125 \nQ 15.375 64.15625 9.8125 62.3125 \nL 9.8125 71.09375 \nQ 15.4375 72.65625 20.34375 73.4375 \nQ 25.25 74.21875 29.59375 74.21875 \nQ 40.828125 74.21875 47.359375 69.109375 \nQ 53.90625 64.015625 53.90625 55.328125 \nQ 53.90625 49.265625 50.4375 45.09375 \nQ 46.96875 40.921875 40.578125 39.3125 \nz\n\" id=\"DejaVuSans-51\"/>\n       </defs>\n       <use xlink:href=\"#DejaVuSans-112\"/>\n       <use x=\"63.476562\" xlink:href=\"#DejaVuSans-101\"/>\n       <use x=\"125\" xlink:href=\"#DejaVuSans-114\"/>\n       <use x=\"166.113281\" xlink:href=\"#DejaVuSans-102\"/>\n       <use x=\"201.318359\" xlink:href=\"#DejaVuSans-105\"/>\n       <use x=\"229.101562\" xlink:href=\"#DejaVuSans-108\"/>\n       <use x=\"256.884766\" xlink:href=\"#DejaVuSans-51\"/>\n      </g>\n     </g>\n    </g>\n    <g id=\"xtick_4\">\n     <g id=\"line2d_4\">\n      <g>\n       <use style=\"stroke:#000000;stroke-width:0.8;\" x=\"287.44543\" xlink:href=\"#m9420ce0df9\" y=\"379.842863\"/>\n      </g>\n     </g>\n     <g id=\"text_4\">\n      <!-- perfil4 -->\n      <g transform=\"translate(278.064664 414.879647)rotate(-45)scale(0.1 -0.1)\">\n       <defs>\n        <path d=\"M 37.796875 64.3125 \nL 12.890625 25.390625 \nL 37.796875 25.390625 \nz\nM 35.203125 72.90625 \nL 47.609375 72.90625 \nL 47.609375 25.390625 \nL 58.015625 25.390625 \nL 58.015625 17.1875 \nL 47.609375 17.1875 \nL 47.609375 0 \nL 37.796875 0 \nL 37.796875 17.1875 \nL 4.890625 17.1875 \nL 4.890625 26.703125 \nz\n\" id=\"DejaVuSans-52\"/>\n       </defs>\n       <use xlink:href=\"#DejaVuSans-112\"/>\n       <use x=\"63.476562\" xlink:href=\"#DejaVuSans-101\"/>\n       <use x=\"125\" xlink:href=\"#DejaVuSans-114\"/>\n       <use x=\"166.113281\" xlink:href=\"#DejaVuSans-102\"/>\n       <use x=\"201.318359\" xlink:href=\"#DejaVuSans-105\"/>\n       <use x=\"229.101562\" xlink:href=\"#DejaVuSans-108\"/>\n       <use x=\"256.884766\" xlink:href=\"#DejaVuSans-52\"/>\n      </g>\n     </g>\n    </g>\n    <g id=\"xtick_5\">\n     <g id=\"line2d_5\">\n      <g>\n       <use style=\"stroke:#000000;stroke-width:0.8;\" x=\"352.449928\" xlink:href=\"#m9420ce0df9\" y=\"379.842863\"/>\n      </g>\n     </g>\n     <g id=\"text_5\">\n      <!-- perfil5 -->\n      <g transform=\"translate(343.069162 414.879647)rotate(-45)scale(0.1 -0.1)\">\n       <defs>\n        <path d=\"M 10.796875 72.90625 \nL 49.515625 72.90625 \nL 49.515625 64.59375 \nL 19.828125 64.59375 \nL 19.828125 46.734375 \nQ 21.96875 47.46875 24.109375 47.828125 \nQ 26.265625 48.1875 28.421875 48.1875 \nQ 40.625 48.1875 47.75 41.5 \nQ 54.890625 34.8125 54.890625 23.390625 \nQ 54.890625 11.625 47.5625 5.09375 \nQ 40.234375 -1.421875 26.90625 -1.421875 \nQ 22.3125 -1.421875 17.546875 -0.640625 \nQ 12.796875 0.140625 7.71875 1.703125 \nL 7.71875 11.625 \nQ 12.109375 9.234375 16.796875 8.0625 \nQ 21.484375 6.890625 26.703125 6.890625 \nQ 35.15625 6.890625 40.078125 11.328125 \nQ 45.015625 15.765625 45.015625 23.390625 \nQ 45.015625 31 40.078125 35.4375 \nQ 35.15625 39.890625 26.703125 39.890625 \nQ 22.75 39.890625 18.8125 39.015625 \nQ 14.890625 38.140625 10.796875 36.28125 \nz\n\" id=\"DejaVuSans-53\"/>\n       </defs>\n       <use xlink:href=\"#DejaVuSans-112\"/>\n       <use x=\"63.476562\" xlink:href=\"#DejaVuSans-101\"/>\n       <use x=\"125\" xlink:href=\"#DejaVuSans-114\"/>\n       <use x=\"166.113281\" xlink:href=\"#DejaVuSans-102\"/>\n       <use x=\"201.318359\" xlink:href=\"#DejaVuSans-105\"/>\n       <use x=\"229.101562\" xlink:href=\"#DejaVuSans-108\"/>\n       <use x=\"256.884766\" xlink:href=\"#DejaVuSans-53\"/>\n      </g>\n     </g>\n    </g>\n    <g id=\"xtick_6\">\n     <g id=\"line2d_6\">\n      <g>\n       <use style=\"stroke:#000000;stroke-width:0.8;\" x=\"417.454426\" xlink:href=\"#m9420ce0df9\" y=\"379.842863\"/>\n      </g>\n     </g>\n     <g id=\"text_6\">\n      <!-- perfil6 -->\n      <g transform=\"translate(408.07366 414.879647)rotate(-45)scale(0.1 -0.1)\">\n       <defs>\n        <path d=\"M 33.015625 40.375 \nQ 26.375 40.375 22.484375 35.828125 \nQ 18.609375 31.296875 18.609375 23.390625 \nQ 18.609375 15.53125 22.484375 10.953125 \nQ 26.375 6.390625 33.015625 6.390625 \nQ 39.65625 6.390625 43.53125 10.953125 \nQ 47.40625 15.53125 47.40625 23.390625 \nQ 47.40625 31.296875 43.53125 35.828125 \nQ 39.65625 40.375 33.015625 40.375 \nz\nM 52.59375 71.296875 \nL 52.59375 62.3125 \nQ 48.875 64.0625 45.09375 64.984375 \nQ 41.3125 65.921875 37.59375 65.921875 \nQ 27.828125 65.921875 22.671875 59.328125 \nQ 17.53125 52.734375 16.796875 39.40625 \nQ 19.671875 43.65625 24.015625 45.921875 \nQ 28.375 48.1875 33.59375 48.1875 \nQ 44.578125 48.1875 50.953125 41.515625 \nQ 57.328125 34.859375 57.328125 23.390625 \nQ 57.328125 12.15625 50.6875 5.359375 \nQ 44.046875 -1.421875 33.015625 -1.421875 \nQ 20.359375 -1.421875 13.671875 8.265625 \nQ 6.984375 17.96875 6.984375 36.375 \nQ 6.984375 53.65625 15.1875 63.9375 \nQ 23.390625 74.21875 37.203125 74.21875 \nQ 40.921875 74.21875 44.703125 73.484375 \nQ 48.484375 72.75 52.59375 71.296875 \nz\n\" id=\"DejaVuSans-54\"/>\n       </defs>\n       <use xlink:href=\"#DejaVuSans-112\"/>\n       <use x=\"63.476562\" xlink:href=\"#DejaVuSans-101\"/>\n       <use x=\"125\" xlink:href=\"#DejaVuSans-114\"/>\n       <use x=\"166.113281\" xlink:href=\"#DejaVuSans-102\"/>\n       <use x=\"201.318359\" xlink:href=\"#DejaVuSans-105\"/>\n       <use x=\"229.101562\" xlink:href=\"#DejaVuSans-108\"/>\n       <use x=\"256.884766\" xlink:href=\"#DejaVuSans-54\"/>\n      </g>\n     </g>\n    </g>\n    <g id=\"text_7\">\n     <!-- Predicted label -->\n     <g transform=\"translate(201.539713 427.948646)scale(0.1 -0.1)\">\n      <defs>\n       <path d=\"M 19.671875 64.796875 \nL 19.671875 37.40625 \nL 32.078125 37.40625 \nQ 38.96875 37.40625 42.71875 40.96875 \nQ 46.484375 44.53125 46.484375 51.125 \nQ 46.484375 57.671875 42.71875 61.234375 \nQ 38.96875 64.796875 32.078125 64.796875 \nz\nM 9.8125 72.90625 \nL 32.078125 72.90625 \nQ 44.34375 72.90625 50.609375 67.359375 \nQ 56.890625 61.8125 56.890625 51.125 \nQ 56.890625 40.328125 50.609375 34.8125 \nQ 44.34375 29.296875 32.078125 29.296875 \nL 19.671875 29.296875 \nL 19.671875 0 \nL 9.8125 0 \nz\n\" id=\"DejaVuSans-80\"/>\n       <path d=\"M 45.40625 46.390625 \nL 45.40625 75.984375 \nL 54.390625 75.984375 \nL 54.390625 0 \nL 45.40625 0 \nL 45.40625 8.203125 \nQ 42.578125 3.328125 38.25 0.953125 \nQ 33.9375 -1.421875 27.875 -1.421875 \nQ 17.96875 -1.421875 11.734375 6.484375 \nQ 5.515625 14.40625 5.515625 27.296875 \nQ 5.515625 40.1875 11.734375 48.09375 \nQ 17.96875 56 27.875 56 \nQ 33.9375 56 38.25 53.625 \nQ 42.578125 51.265625 45.40625 46.390625 \nz\nM 14.796875 27.296875 \nQ 14.796875 17.390625 18.875 11.75 \nQ 22.953125 6.109375 30.078125 6.109375 \nQ 37.203125 6.109375 41.296875 11.75 \nQ 45.40625 17.390625 45.40625 27.296875 \nQ 45.40625 37.203125 41.296875 42.84375 \nQ 37.203125 48.484375 30.078125 48.484375 \nQ 22.953125 48.484375 18.875 42.84375 \nQ 14.796875 37.203125 14.796875 27.296875 \nz\n\" id=\"DejaVuSans-100\"/>\n       <path d=\"M 48.78125 52.59375 \nL 48.78125 44.1875 \nQ 44.96875 46.296875 41.140625 47.34375 \nQ 37.3125 48.390625 33.40625 48.390625 \nQ 24.65625 48.390625 19.8125 42.84375 \nQ 14.984375 37.3125 14.984375 27.296875 \nQ 14.984375 17.28125 19.8125 11.734375 \nQ 24.65625 6.203125 33.40625 6.203125 \nQ 37.3125 6.203125 41.140625 7.25 \nQ 44.96875 8.296875 48.78125 10.40625 \nL 48.78125 2.09375 \nQ 45.015625 0.34375 40.984375 -0.53125 \nQ 36.96875 -1.421875 32.421875 -1.421875 \nQ 20.0625 -1.421875 12.78125 6.34375 \nQ 5.515625 14.109375 5.515625 27.296875 \nQ 5.515625 40.671875 12.859375 48.328125 \nQ 20.21875 56 33.015625 56 \nQ 37.15625 56 41.109375 55.140625 \nQ 45.0625 54.296875 48.78125 52.59375 \nz\n\" id=\"DejaVuSans-99\"/>\n       <path d=\"M 18.3125 70.21875 \nL 18.3125 54.6875 \nL 36.8125 54.6875 \nL 36.8125 47.703125 \nL 18.3125 47.703125 \nL 18.3125 18.015625 \nQ 18.3125 11.328125 20.140625 9.421875 \nQ 21.96875 7.515625 27.59375 7.515625 \nL 36.8125 7.515625 \nL 36.8125 0 \nL 27.59375 0 \nQ 17.1875 0 13.234375 3.875 \nQ 9.28125 7.765625 9.28125 18.015625 \nL 9.28125 47.703125 \nL 2.6875 47.703125 \nL 2.6875 54.6875 \nL 9.28125 54.6875 \nL 9.28125 70.21875 \nz\n\" id=\"DejaVuSans-116\"/>\n       <path id=\"DejaVuSans-32\"/>\n       <path d=\"M 48.6875 27.296875 \nQ 48.6875 37.203125 44.609375 42.84375 \nQ 40.53125 48.484375 33.40625 48.484375 \nQ 26.265625 48.484375 22.1875 42.84375 \nQ 18.109375 37.203125 18.109375 27.296875 \nQ 18.109375 17.390625 22.1875 11.75 \nQ 26.265625 6.109375 33.40625 6.109375 \nQ 40.53125 6.109375 44.609375 11.75 \nQ 48.6875 17.390625 48.6875 27.296875 \nz\nM 18.109375 46.390625 \nQ 20.953125 51.265625 25.265625 53.625 \nQ 29.59375 56 35.59375 56 \nQ 45.5625 56 51.78125 48.09375 \nQ 58.015625 40.1875 58.015625 27.296875 \nQ 58.015625 14.40625 51.78125 6.484375 \nQ 45.5625 -1.421875 35.59375 -1.421875 \nQ 29.59375 -1.421875 25.265625 0.953125 \nQ 20.953125 3.328125 18.109375 8.203125 \nL 18.109375 0 \nL 9.078125 0 \nL 9.078125 75.984375 \nL 18.109375 75.984375 \nz\n\" id=\"DejaVuSans-98\"/>\n      </defs>\n      <use xlink:href=\"#DejaVuSans-80\"/>\n      <use x=\"58.552734\" xlink:href=\"#DejaVuSans-114\"/>\n      <use x=\"97.416016\" xlink:href=\"#DejaVuSans-101\"/>\n      <use x=\"158.939453\" xlink:href=\"#DejaVuSans-100\"/>\n      <use x=\"222.416016\" xlink:href=\"#DejaVuSans-105\"/>\n      <use x=\"250.199219\" xlink:href=\"#DejaVuSans-99\"/>\n      <use x=\"305.179688\" xlink:href=\"#DejaVuSans-116\"/>\n      <use x=\"344.388672\" xlink:href=\"#DejaVuSans-101\"/>\n      <use x=\"405.912109\" xlink:href=\"#DejaVuSans-100\"/>\n      <use x=\"469.388672\" xlink:href=\"#DejaVuSans-32\"/>\n      <use x=\"501.175781\" xlink:href=\"#DejaVuSans-108\"/>\n      <use x=\"528.958984\" xlink:href=\"#DejaVuSans-97\"/>\n      <use x=\"590.238281\" xlink:href=\"#DejaVuSans-98\"/>\n      <use x=\"653.714844\" xlink:href=\"#DejaVuSans-101\"/>\n      <use x=\"715.238281\" xlink:href=\"#DejaVuSans-108\"/>\n     </g>\n     <!-- accuracy=1.0000; misclass=0.0000 -->\n     <g transform=\"translate(148.21315 439.146459)scale(0.1 -0.1)\">\n      <defs>\n       <path d=\"M 8.5 21.578125 \nL 8.5 54.6875 \nL 17.484375 54.6875 \nL 17.484375 21.921875 \nQ 17.484375 14.15625 20.5 10.265625 \nQ 23.53125 6.390625 29.59375 6.390625 \nQ 36.859375 6.390625 41.078125 11.03125 \nQ 45.3125 15.671875 45.3125 23.6875 \nL 45.3125 54.6875 \nL 54.296875 54.6875 \nL 54.296875 0 \nL 45.3125 0 \nL 45.3125 8.40625 \nQ 42.046875 3.421875 37.71875 1 \nQ 33.40625 -1.421875 27.6875 -1.421875 \nQ 18.265625 -1.421875 13.375 4.4375 \nQ 8.5 10.296875 8.5 21.578125 \nz\nM 31.109375 56 \nz\n\" id=\"DejaVuSans-117\"/>\n       <path d=\"M 32.171875 -5.078125 \nQ 28.375 -14.84375 24.75 -17.8125 \nQ 21.140625 -20.796875 15.09375 -20.796875 \nL 7.90625 -20.796875 \nL 7.90625 -13.28125 \nL 13.1875 -13.28125 \nQ 16.890625 -13.28125 18.9375 -11.515625 \nQ 21 -9.765625 23.484375 -3.21875 \nL 25.09375 0.875 \nL 2.984375 54.6875 \nL 12.5 54.6875 \nL 29.59375 11.921875 \nL 46.6875 54.6875 \nL 56.203125 54.6875 \nz\n\" id=\"DejaVuSans-121\"/>\n       <path d=\"M 10.59375 45.40625 \nL 73.1875 45.40625 \nL 73.1875 37.203125 \nL 10.59375 37.203125 \nz\nM 10.59375 25.484375 \nL 73.1875 25.484375 \nL 73.1875 17.1875 \nL 10.59375 17.1875 \nz\n\" id=\"DejaVuSans-61\"/>\n       <path d=\"M 10.6875 12.40625 \nL 21 12.40625 \nL 21 0 \nL 10.6875 0 \nz\n\" id=\"DejaVuSans-46\"/>\n       <path d=\"M 31.78125 66.40625 \nQ 24.171875 66.40625 20.328125 58.90625 \nQ 16.5 51.421875 16.5 36.375 \nQ 16.5 21.390625 20.328125 13.890625 \nQ 24.171875 6.390625 31.78125 6.390625 \nQ 39.453125 6.390625 43.28125 13.890625 \nQ 47.125 21.390625 47.125 36.375 \nQ 47.125 51.421875 43.28125 58.90625 \nQ 39.453125 66.40625 31.78125 66.40625 \nz\nM 31.78125 74.21875 \nQ 44.046875 74.21875 50.515625 64.515625 \nQ 56.984375 54.828125 56.984375 36.375 \nQ 56.984375 17.96875 50.515625 8.265625 \nQ 44.046875 -1.421875 31.78125 -1.421875 \nQ 19.53125 -1.421875 13.0625 8.265625 \nQ 6.59375 17.96875 6.59375 36.375 \nQ 6.59375 54.828125 13.0625 64.515625 \nQ 19.53125 74.21875 31.78125 74.21875 \nz\n\" id=\"DejaVuSans-48\"/>\n       <path d=\"M 11.71875 51.703125 \nL 22.015625 51.703125 \nL 22.015625 39.3125 \nL 11.71875 39.3125 \nz\nM 11.71875 12.40625 \nL 22.015625 12.40625 \nL 22.015625 4 \nL 14.015625 -11.625 \nL 7.71875 -11.625 \nL 11.71875 4 \nz\n\" id=\"DejaVuSans-59\"/>\n       <path d=\"M 52 44.1875 \nQ 55.375 50.25 60.0625 53.125 \nQ 64.75 56 71.09375 56 \nQ 79.640625 56 84.28125 50.015625 \nQ 88.921875 44.046875 88.921875 33.015625 \nL 88.921875 0 \nL 79.890625 0 \nL 79.890625 32.71875 \nQ 79.890625 40.578125 77.09375 44.375 \nQ 74.3125 48.1875 68.609375 48.1875 \nQ 61.625 48.1875 57.5625 43.546875 \nQ 53.515625 38.921875 53.515625 30.90625 \nL 53.515625 0 \nL 44.484375 0 \nL 44.484375 32.71875 \nQ 44.484375 40.625 41.703125 44.40625 \nQ 38.921875 48.1875 33.109375 48.1875 \nQ 26.21875 48.1875 22.15625 43.53125 \nQ 18.109375 38.875 18.109375 30.90625 \nL 18.109375 0 \nL 9.078125 0 \nL 9.078125 54.6875 \nL 18.109375 54.6875 \nL 18.109375 46.1875 \nQ 21.1875 51.21875 25.484375 53.609375 \nQ 29.78125 56 35.6875 56 \nQ 41.65625 56 45.828125 52.96875 \nQ 50 49.953125 52 44.1875 \nz\n\" id=\"DejaVuSans-109\"/>\n       <path d=\"M 44.28125 53.078125 \nL 44.28125 44.578125 \nQ 40.484375 46.53125 36.375 47.5 \nQ 32.28125 48.484375 27.875 48.484375 \nQ 21.1875 48.484375 17.84375 46.4375 \nQ 14.5 44.390625 14.5 40.28125 \nQ 14.5 37.15625 16.890625 35.375 \nQ 19.28125 33.59375 26.515625 31.984375 \nL 29.59375 31.296875 \nQ 39.15625 29.25 43.1875 25.515625 \nQ 47.21875 21.78125 47.21875 15.09375 \nQ 47.21875 7.46875 41.1875 3.015625 \nQ 35.15625 -1.421875 24.609375 -1.421875 \nQ 20.21875 -1.421875 15.453125 -0.5625 \nQ 10.6875 0.296875 5.421875 2 \nL 5.421875 11.28125 \nQ 10.40625 8.6875 15.234375 7.390625 \nQ 20.0625 6.109375 24.8125 6.109375 \nQ 31.15625 6.109375 34.5625 8.28125 \nQ 37.984375 10.453125 37.984375 14.40625 \nQ 37.984375 18.0625 35.515625 20.015625 \nQ 33.0625 21.96875 24.703125 23.78125 \nL 21.578125 24.515625 \nQ 13.234375 26.265625 9.515625 29.90625 \nQ 5.8125 33.546875 5.8125 39.890625 \nQ 5.8125 47.609375 11.28125 51.796875 \nQ 16.75 56 26.8125 56 \nQ 31.78125 56 36.171875 55.265625 \nQ 40.578125 54.546875 44.28125 53.078125 \nz\n\" id=\"DejaVuSans-115\"/>\n      </defs>\n      <use xlink:href=\"#DejaVuSans-97\"/>\n      <use x=\"61.279297\" xlink:href=\"#DejaVuSans-99\"/>\n      <use x=\"116.259766\" xlink:href=\"#DejaVuSans-99\"/>\n      <use x=\"171.240234\" xlink:href=\"#DejaVuSans-117\"/>\n      <use x=\"234.619141\" xlink:href=\"#DejaVuSans-114\"/>\n      <use x=\"275.732422\" xlink:href=\"#DejaVuSans-97\"/>\n      <use x=\"337.011719\" xlink:href=\"#DejaVuSans-99\"/>\n      <use x=\"391.992188\" xlink:href=\"#DejaVuSans-121\"/>\n      <use x=\"451.171875\" xlink:href=\"#DejaVuSans-61\"/>\n      <use x=\"534.960938\" xlink:href=\"#DejaVuSans-49\"/>\n      <use x=\"598.583984\" xlink:href=\"#DejaVuSans-46\"/>\n      <use x=\"630.371094\" xlink:href=\"#DejaVuSans-48\"/>\n      <use x=\"693.994141\" xlink:href=\"#DejaVuSans-48\"/>\n      <use x=\"757.617188\" xlink:href=\"#DejaVuSans-48\"/>\n      <use x=\"821.240234\" xlink:href=\"#DejaVuSans-48\"/>\n      <use x=\"884.863281\" xlink:href=\"#DejaVuSans-59\"/>\n      <use x=\"918.554688\" xlink:href=\"#DejaVuSans-32\"/>\n      <use x=\"950.341797\" xlink:href=\"#DejaVuSans-109\"/>\n      <use x=\"1047.753906\" xlink:href=\"#DejaVuSans-105\"/>\n      <use x=\"1075.537109\" xlink:href=\"#DejaVuSans-115\"/>\n      <use x=\"1127.636719\" xlink:href=\"#DejaVuSans-99\"/>\n      <use x=\"1182.617188\" xlink:href=\"#DejaVuSans-108\"/>\n      <use x=\"1210.400391\" xlink:href=\"#DejaVuSans-97\"/>\n      <use x=\"1271.679688\" xlink:href=\"#DejaVuSans-115\"/>\n      <use x=\"1323.779297\" xlink:href=\"#DejaVuSans-115\"/>\n      <use x=\"1375.878906\" xlink:href=\"#DejaVuSans-61\"/>\n      <use x=\"1459.667969\" xlink:href=\"#DejaVuSans-48\"/>\n      <use x=\"1523.291016\" xlink:href=\"#DejaVuSans-46\"/>\n      <use x=\"1555.078125\" xlink:href=\"#DejaVuSans-48\"/>\n      <use x=\"1618.701172\" xlink:href=\"#DejaVuSans-48\"/>\n      <use x=\"1682.324219\" xlink:href=\"#DejaVuSans-48\"/>\n      <use x=\"1745.947266\" xlink:href=\"#DejaVuSans-48\"/>\n     </g>\n    </g>\n   </g>\n   <g id=\"matplotlib.axis_2\">\n    <g id=\"ytick_1\">\n     <g id=\"line2d_7\">\n      <defs>\n       <path d=\"M 0 0 \nL -3.5 0 \n\" id=\"mc9c7ba642d\" style=\"stroke:#000000;stroke-width:0.8;\"/>\n      </defs>\n      <g>\n       <use style=\"stroke:#000000;stroke-width:0.8;\" x=\"59.929688\" xlink:href=\"#mc9c7ba642d\" y=\"54.820374\"/>\n      </g>\n     </g>\n     <g id=\"text_8\">\n      <!-- parfil1 -->\n      <g transform=\"translate(20.903125 58.619593)scale(0.1 -0.1)\">\n       <use xlink:href=\"#DejaVuSans-112\"/>\n       <use x=\"63.476562\" xlink:href=\"#DejaVuSans-97\"/>\n       <use x=\"124.755859\" xlink:href=\"#DejaVuSans-114\"/>\n       <use x=\"165.869141\" xlink:href=\"#DejaVuSans-102\"/>\n       <use x=\"201.074219\" xlink:href=\"#DejaVuSans-105\"/>\n       <use x=\"228.857422\" xlink:href=\"#DejaVuSans-108\"/>\n       <use x=\"256.640625\" xlink:href=\"#DejaVuSans-49\"/>\n      </g>\n     </g>\n    </g>\n    <g id=\"ytick_2\">\n     <g id=\"line2d_8\">\n      <g>\n       <use style=\"stroke:#000000;stroke-width:0.8;\" x=\"59.929688\" xlink:href=\"#mc9c7ba642d\" y=\"119.824872\"/>\n      </g>\n     </g>\n     <g id=\"text_9\">\n      <!-- perfil2 -->\n      <g transform=\"translate(20.878125 123.624091)scale(0.1 -0.1)\">\n       <use xlink:href=\"#DejaVuSans-112\"/>\n       <use x=\"63.476562\" xlink:href=\"#DejaVuSans-101\"/>\n       <use x=\"125\" xlink:href=\"#DejaVuSans-114\"/>\n       <use x=\"166.113281\" xlink:href=\"#DejaVuSans-102\"/>\n       <use x=\"201.318359\" xlink:href=\"#DejaVuSans-105\"/>\n       <use x=\"229.101562\" xlink:href=\"#DejaVuSans-108\"/>\n       <use x=\"256.884766\" xlink:href=\"#DejaVuSans-50\"/>\n      </g>\n     </g>\n    </g>\n    <g id=\"ytick_3\">\n     <g id=\"line2d_9\">\n      <g>\n       <use style=\"stroke:#000000;stroke-width:0.8;\" x=\"59.929688\" xlink:href=\"#mc9c7ba642d\" y=\"184.82937\"/>\n      </g>\n     </g>\n     <g id=\"text_10\">\n      <!-- perfil3 -->\n      <g transform=\"translate(20.878125 188.628589)scale(0.1 -0.1)\">\n       <use xlink:href=\"#DejaVuSans-112\"/>\n       <use x=\"63.476562\" xlink:href=\"#DejaVuSans-101\"/>\n       <use x=\"125\" xlink:href=\"#DejaVuSans-114\"/>\n       <use x=\"166.113281\" xlink:href=\"#DejaVuSans-102\"/>\n       <use x=\"201.318359\" xlink:href=\"#DejaVuSans-105\"/>\n       <use x=\"229.101562\" xlink:href=\"#DejaVuSans-108\"/>\n       <use x=\"256.884766\" xlink:href=\"#DejaVuSans-51\"/>\n      </g>\n     </g>\n    </g>\n    <g id=\"ytick_4\">\n     <g id=\"line2d_10\">\n      <g>\n       <use style=\"stroke:#000000;stroke-width:0.8;\" x=\"59.929688\" xlink:href=\"#mc9c7ba642d\" y=\"249.833868\"/>\n      </g>\n     </g>\n     <g id=\"text_11\">\n      <!-- perfil4 -->\n      <g transform=\"translate(20.878125 253.633086)scale(0.1 -0.1)\">\n       <use xlink:href=\"#DejaVuSans-112\"/>\n       <use x=\"63.476562\" xlink:href=\"#DejaVuSans-101\"/>\n       <use x=\"125\" xlink:href=\"#DejaVuSans-114\"/>\n       <use x=\"166.113281\" xlink:href=\"#DejaVuSans-102\"/>\n       <use x=\"201.318359\" xlink:href=\"#DejaVuSans-105\"/>\n       <use x=\"229.101562\" xlink:href=\"#DejaVuSans-108\"/>\n       <use x=\"256.884766\" xlink:href=\"#DejaVuSans-52\"/>\n      </g>\n     </g>\n    </g>\n    <g id=\"ytick_5\">\n     <g id=\"line2d_11\">\n      <g>\n       <use style=\"stroke:#000000;stroke-width:0.8;\" x=\"59.929688\" xlink:href=\"#mc9c7ba642d\" y=\"314.838366\"/>\n      </g>\n     </g>\n     <g id=\"text_12\">\n      <!-- perfil5 -->\n      <g transform=\"translate(20.878125 318.637584)scale(0.1 -0.1)\">\n       <use xlink:href=\"#DejaVuSans-112\"/>\n       <use x=\"63.476562\" xlink:href=\"#DejaVuSans-101\"/>\n       <use x=\"125\" xlink:href=\"#DejaVuSans-114\"/>\n       <use x=\"166.113281\" xlink:href=\"#DejaVuSans-102\"/>\n       <use x=\"201.318359\" xlink:href=\"#DejaVuSans-105\"/>\n       <use x=\"229.101562\" xlink:href=\"#DejaVuSans-108\"/>\n       <use x=\"256.884766\" xlink:href=\"#DejaVuSans-53\"/>\n      </g>\n     </g>\n    </g>\n    <g id=\"ytick_6\">\n     <g id=\"line2d_12\">\n      <g>\n       <use style=\"stroke:#000000;stroke-width:0.8;\" x=\"59.929688\" xlink:href=\"#mc9c7ba642d\" y=\"379.842863\"/>\n      </g>\n     </g>\n     <g id=\"text_13\">\n      <!-- perfil6 -->\n      <g transform=\"translate(20.878125 383.642082)scale(0.1 -0.1)\">\n       <use xlink:href=\"#DejaVuSans-112\"/>\n       <use x=\"63.476562\" xlink:href=\"#DejaVuSans-101\"/>\n       <use x=\"125\" xlink:href=\"#DejaVuSans-114\"/>\n       <use x=\"166.113281\" xlink:href=\"#DejaVuSans-102\"/>\n       <use x=\"201.318359\" xlink:href=\"#DejaVuSans-105\"/>\n       <use x=\"229.101562\" xlink:href=\"#DejaVuSans-108\"/>\n       <use x=\"256.884766\" xlink:href=\"#DejaVuSans-54\"/>\n      </g>\n     </g>\n    </g>\n    <g id=\"text_14\">\n     <!-- True label -->\n     <g transform=\"translate(14.798438 225.379713)rotate(-90)scale(0.1 -0.1)\">\n      <defs>\n       <path d=\"M -0.296875 72.90625 \nL 61.375 72.90625 \nL 61.375 64.59375 \nL 35.5 64.59375 \nL 35.5 0 \nL 25.59375 0 \nL 25.59375 64.59375 \nL -0.296875 64.59375 \nz\n\" id=\"DejaVuSans-84\"/>\n      </defs>\n      <use xlink:href=\"#DejaVuSans-84\"/>\n      <use x=\"46.333984\" xlink:href=\"#DejaVuSans-114\"/>\n      <use x=\"87.447266\" xlink:href=\"#DejaVuSans-117\"/>\n      <use x=\"150.826172\" xlink:href=\"#DejaVuSans-101\"/>\n      <use x=\"212.349609\" xlink:href=\"#DejaVuSans-32\"/>\n      <use x=\"244.136719\" xlink:href=\"#DejaVuSans-108\"/>\n      <use x=\"271.919922\" xlink:href=\"#DejaVuSans-97\"/>\n      <use x=\"333.199219\" xlink:href=\"#DejaVuSans-98\"/>\n      <use x=\"396.675781\" xlink:href=\"#DejaVuSans-101\"/>\n      <use x=\"458.199219\" xlink:href=\"#DejaVuSans-108\"/>\n     </g>\n    </g>\n   </g>\n   <g id=\"patch_3\">\n    <path d=\"M 59.929688 379.842863 \nL 59.929688 22.318125 \n\" style=\"fill:none;stroke:#000000;stroke-linecap:square;stroke-linejoin:miter;stroke-width:0.8;\"/>\n   </g>\n   <g id=\"patch_4\">\n    <path d=\"M 417.454426 379.842863 \nL 417.454426 22.318125 \n\" style=\"fill:none;stroke:#000000;stroke-linecap:square;stroke-linejoin:miter;stroke-width:0.8;\"/>\n   </g>\n   <g id=\"patch_5\">\n    <path d=\"M 59.929688 379.842863 \nL 417.454426 379.842863 \n\" style=\"fill:none;stroke:#000000;stroke-linecap:square;stroke-linejoin:miter;stroke-width:0.8;\"/>\n   </g>\n   <g id=\"patch_6\">\n    <path d=\"M 59.929688 22.318125 \nL 417.454426 22.318125 \n\" style=\"fill:none;stroke:#000000;stroke-linecap:square;stroke-linejoin:miter;stroke-width:0.8;\"/>\n   </g>\n   <g id=\"text_15\">\n    <!-- 1.0000 -->\n    <g style=\"fill:#ffffff;\" transform=\"translate(74.936624 54.820374)scale(0.1 -0.1)\">\n     <use xlink:href=\"#DejaVuSans-49\"/>\n     <use x=\"63.623047\" xlink:href=\"#DejaVuSans-46\"/>\n     <use x=\"95.410156\" xlink:href=\"#DejaVuSans-48\"/>\n     <use x=\"159.033203\" xlink:href=\"#DejaVuSans-48\"/>\n     <use x=\"222.65625\" xlink:href=\"#DejaVuSans-48\"/>\n     <use x=\"286.279297\" xlink:href=\"#DejaVuSans-48\"/>\n    </g>\n   </g>\n   <g id=\"text_16\">\n    <!-- Confusion matrix -->\n    <g transform=\"translate(187.382682 16.318125)scale(0.12 -0.12)\">\n     <defs>\n      <path d=\"M 64.40625 67.28125 \nL 64.40625 56.890625 \nQ 59.421875 61.53125 53.78125 63.8125 \nQ 48.140625 66.109375 41.796875 66.109375 \nQ 29.296875 66.109375 22.65625 58.46875 \nQ 16.015625 50.828125 16.015625 36.375 \nQ 16.015625 21.96875 22.65625 14.328125 \nQ 29.296875 6.6875 41.796875 6.6875 \nQ 48.140625 6.6875 53.78125 8.984375 \nQ 59.421875 11.28125 64.40625 15.921875 \nL 64.40625 5.609375 \nQ 59.234375 2.09375 53.4375 0.328125 \nQ 47.65625 -1.421875 41.21875 -1.421875 \nQ 24.65625 -1.421875 15.125 8.703125 \nQ 5.609375 18.84375 5.609375 36.375 \nQ 5.609375 53.953125 15.125 64.078125 \nQ 24.65625 74.21875 41.21875 74.21875 \nQ 47.75 74.21875 53.53125 72.484375 \nQ 59.328125 70.75 64.40625 67.28125 \nz\n\" id=\"DejaVuSans-67\"/>\n      <path d=\"M 30.609375 48.390625 \nQ 23.390625 48.390625 19.1875 42.75 \nQ 14.984375 37.109375 14.984375 27.296875 \nQ 14.984375 17.484375 19.15625 11.84375 \nQ 23.34375 6.203125 30.609375 6.203125 \nQ 37.796875 6.203125 41.984375 11.859375 \nQ 46.1875 17.53125 46.1875 27.296875 \nQ 46.1875 37.015625 41.984375 42.703125 \nQ 37.796875 48.390625 30.609375 48.390625 \nz\nM 30.609375 56 \nQ 42.328125 56 49.015625 48.375 \nQ 55.71875 40.765625 55.71875 27.296875 \nQ 55.71875 13.875 49.015625 6.21875 \nQ 42.328125 -1.421875 30.609375 -1.421875 \nQ 18.84375 -1.421875 12.171875 6.21875 \nQ 5.515625 13.875 5.515625 27.296875 \nQ 5.515625 40.765625 12.171875 48.375 \nQ 18.84375 56 30.609375 56 \nz\n\" id=\"DejaVuSans-111\"/>\n      <path d=\"M 54.890625 33.015625 \nL 54.890625 0 \nL 45.90625 0 \nL 45.90625 32.71875 \nQ 45.90625 40.484375 42.875 44.328125 \nQ 39.84375 48.1875 33.796875 48.1875 \nQ 26.515625 48.1875 22.3125 43.546875 \nQ 18.109375 38.921875 18.109375 30.90625 \nL 18.109375 0 \nL 9.078125 0 \nL 9.078125 54.6875 \nL 18.109375 54.6875 \nL 18.109375 46.1875 \nQ 21.34375 51.125 25.703125 53.5625 \nQ 30.078125 56 35.796875 56 \nQ 45.21875 56 50.046875 50.171875 \nQ 54.890625 44.34375 54.890625 33.015625 \nz\n\" id=\"DejaVuSans-110\"/>\n      <path d=\"M 54.890625 54.6875 \nL 35.109375 28.078125 \nL 55.90625 0 \nL 45.3125 0 \nL 29.390625 21.484375 \nL 13.484375 0 \nL 2.875 0 \nL 24.125 28.609375 \nL 4.6875 54.6875 \nL 15.28125 54.6875 \nL 29.78125 35.203125 \nL 44.28125 54.6875 \nz\n\" id=\"DejaVuSans-120\"/>\n     </defs>\n     <use xlink:href=\"#DejaVuSans-67\"/>\n     <use x=\"69.824219\" xlink:href=\"#DejaVuSans-111\"/>\n     <use x=\"131.005859\" xlink:href=\"#DejaVuSans-110\"/>\n     <use x=\"194.384766\" xlink:href=\"#DejaVuSans-102\"/>\n     <use x=\"229.589844\" xlink:href=\"#DejaVuSans-117\"/>\n     <use x=\"292.96875\" xlink:href=\"#DejaVuSans-115\"/>\n     <use x=\"345.068359\" xlink:href=\"#DejaVuSans-105\"/>\n     <use x=\"372.851562\" xlink:href=\"#DejaVuSans-111\"/>\n     <use x=\"434.033203\" xlink:href=\"#DejaVuSans-110\"/>\n     <use x=\"497.412109\" xlink:href=\"#DejaVuSans-32\"/>\n     <use x=\"529.199219\" xlink:href=\"#DejaVuSans-109\"/>\n     <use x=\"626.611328\" xlink:href=\"#DejaVuSans-97\"/>\n     <use x=\"687.890625\" xlink:href=\"#DejaVuSans-116\"/>\n     <use x=\"727.099609\" xlink:href=\"#DejaVuSans-114\"/>\n     <use x=\"768.212891\" xlink:href=\"#DejaVuSans-105\"/>\n     <use x=\"795.996094\" xlink:href=\"#DejaVuSans-120\"/>\n    </g>\n   </g>\n  </g>\n  <g id=\"axes_2\">\n   <g id=\"patch_7\">\n    <path clip-path=\"url(#pe855500ae1)\" d=\"M 444.759926 379.842863 \nL 444.759926 378.446282 \nL 444.759926 23.714706 \nL 444.759926 22.318125 \nL 462.636163 22.318125 \nL 462.636163 23.714706 \nL 462.636163 378.446282 \nL 462.636163 379.842863 \nz\n\" style=\"fill:#ffffff;stroke:#ffffff;stroke-linejoin:miter;stroke-width:0.01;\"/>\n   </g>\n   <image height=\"357\" id=\"image8c014b74fc\" transform=\"scale(1 -1)translate(0 -357)\" width=\"18\" x=\"445\" xlink:href=\"data:image/png;base64,\niVBORw0KGgoAAAANSUhEUgAAABIAAAFlCAYAAADmnriaAAABuElEQVR4nO2bQY7DQBACZ1f+/3P3sAc7T8CHUlRC8AAUYGi3J8nP3//zHAC/BMk551zPQT7QuSAeVBpFBDFhZnMeUalhZoPx21LDPhHmkc9s4WADzxEDZfttg02XmvIBKatI87P/rCIJSmlbjyORUJostVUkQ7nWUESrSELxYFtFMooH2yqSUTzYVpEXRKtIxCqSwXl0Q7EJpfnaf/dWpLj9VGrC9ZiriC7+23aym+OnzBZKA/cjm0c3ReSTpksNM5usiGxCCuOvXo+LTzZExMWvqwgmTfhSY1trlPFjRLpnPycNIvLtR2D8DFH1e7/OI93wb/ZIKA0jKvZow/97REKPKCKftL0dRTTfjeiuNIQVKR5s4Fc+sh3S2H6Extl+2zkSVqT4bqS5/b23frrU1v4MobTi9XjSvkqE8Dg9QniapTUPf53ZxeeoWJqyIjKPiqVdN7RoF0/IYmndFbHFz/3Lp9ejYmmLP4KTJvwfpC21xZ8hlKYjKp6Qiz9j8Wf4UhN6tPgz0eGImB+gkfFPWiZipM2jV0S2MTJpb4hk56i4IqA06Bp6E/IV0aRlok3IgGJpq0gGJu0DpzEZhHgQpL8AAAAASUVORK5CYII=\" y=\"-22\"/>\n   <g id=\"matplotlib.axis_3\"/>\n   <g id=\"matplotlib.axis_4\">\n    <g id=\"ytick_7\">\n     <g id=\"line2d_13\">\n      <defs>\n       <path d=\"M 0 0 \nL 3.5 0 \n\" id=\"m56d00c7beb\" style=\"stroke:#000000;stroke-width:0.8;\"/>\n      </defs>\n      <g>\n       <use style=\"stroke:#000000;stroke-width:0.8;\" x=\"462.636163\" xlink:href=\"#m56d00c7beb\" y=\"379.842863\"/>\n      </g>\n     </g>\n     <g id=\"text_17\">\n      <!-- 0.900 -->\n      <g transform=\"translate(469.636163 383.642082)scale(0.1 -0.1)\">\n       <defs>\n        <path d=\"M 10.984375 1.515625 \nL 10.984375 10.5 \nQ 14.703125 8.734375 18.5 7.8125 \nQ 22.3125 6.890625 25.984375 6.890625 \nQ 35.75 6.890625 40.890625 13.453125 \nQ 46.046875 20.015625 46.78125 33.40625 \nQ 43.953125 29.203125 39.59375 26.953125 \nQ 35.25 24.703125 29.984375 24.703125 \nQ 19.046875 24.703125 12.671875 31.3125 \nQ 6.296875 37.9375 6.296875 49.421875 \nQ 6.296875 60.640625 12.9375 67.421875 \nQ 19.578125 74.21875 30.609375 74.21875 \nQ 43.265625 74.21875 49.921875 64.515625 \nQ 56.59375 54.828125 56.59375 36.375 \nQ 56.59375 19.140625 48.40625 8.859375 \nQ 40.234375 -1.421875 26.421875 -1.421875 \nQ 22.703125 -1.421875 18.890625 -0.6875 \nQ 15.09375 0.046875 10.984375 1.515625 \nz\nM 30.609375 32.421875 \nQ 37.25 32.421875 41.125 36.953125 \nQ 45.015625 41.5 45.015625 49.421875 \nQ 45.015625 57.28125 41.125 61.84375 \nQ 37.25 66.40625 30.609375 66.40625 \nQ 23.96875 66.40625 20.09375 61.84375 \nQ 16.21875 57.28125 16.21875 49.421875 \nQ 16.21875 41.5 20.09375 36.953125 \nQ 23.96875 32.421875 30.609375 32.421875 \nz\n\" id=\"DejaVuSans-57\"/>\n       </defs>\n       <use xlink:href=\"#DejaVuSans-48\"/>\n       <use x=\"63.623047\" xlink:href=\"#DejaVuSans-46\"/>\n       <use x=\"95.410156\" xlink:href=\"#DejaVuSans-57\"/>\n       <use x=\"159.033203\" xlink:href=\"#DejaVuSans-48\"/>\n       <use x=\"222.65625\" xlink:href=\"#DejaVuSans-48\"/>\n      </g>\n     </g>\n    </g>\n    <g id=\"ytick_8\">\n     <g id=\"line2d_14\">\n      <g>\n       <use style=\"stroke:#000000;stroke-width:0.8;\" x=\"462.636163\" xlink:href=\"#m56d00c7beb\" y=\"335.152271\"/>\n      </g>\n     </g>\n     <g id=\"text_18\">\n      <!-- 0.925 -->\n      <g transform=\"translate(469.636163 338.95149)scale(0.1 -0.1)\">\n       <use xlink:href=\"#DejaVuSans-48\"/>\n       <use x=\"63.623047\" xlink:href=\"#DejaVuSans-46\"/>\n       <use x=\"95.410156\" xlink:href=\"#DejaVuSans-57\"/>\n       <use x=\"159.033203\" xlink:href=\"#DejaVuSans-50\"/>\n       <use x=\"222.65625\" xlink:href=\"#DejaVuSans-53\"/>\n      </g>\n     </g>\n    </g>\n    <g id=\"ytick_9\">\n     <g id=\"line2d_15\">\n      <g>\n       <use style=\"stroke:#000000;stroke-width:0.8;\" x=\"462.636163\" xlink:href=\"#m56d00c7beb\" y=\"290.461679\"/>\n      </g>\n     </g>\n     <g id=\"text_19\">\n      <!-- 0.950 -->\n      <g transform=\"translate(469.636163 294.260898)scale(0.1 -0.1)\">\n       <use xlink:href=\"#DejaVuSans-48\"/>\n       <use x=\"63.623047\" xlink:href=\"#DejaVuSans-46\"/>\n       <use x=\"95.410156\" xlink:href=\"#DejaVuSans-57\"/>\n       <use x=\"159.033203\" xlink:href=\"#DejaVuSans-53\"/>\n       <use x=\"222.65625\" xlink:href=\"#DejaVuSans-48\"/>\n      </g>\n     </g>\n    </g>\n    <g id=\"ytick_10\">\n     <g id=\"line2d_16\">\n      <g>\n       <use style=\"stroke:#000000;stroke-width:0.8;\" x=\"462.636163\" xlink:href=\"#m56d00c7beb\" y=\"245.771087\"/>\n      </g>\n     </g>\n     <g id=\"text_20\">\n      <!-- 0.975 -->\n      <g transform=\"translate(469.636163 249.570305)scale(0.1 -0.1)\">\n       <defs>\n        <path d=\"M 8.203125 72.90625 \nL 55.078125 72.90625 \nL 55.078125 68.703125 \nL 28.609375 0 \nL 18.3125 0 \nL 43.21875 64.59375 \nL 8.203125 64.59375 \nz\n\" id=\"DejaVuSans-55\"/>\n       </defs>\n       <use xlink:href=\"#DejaVuSans-48\"/>\n       <use x=\"63.623047\" xlink:href=\"#DejaVuSans-46\"/>\n       <use x=\"95.410156\" xlink:href=\"#DejaVuSans-57\"/>\n       <use x=\"159.033203\" xlink:href=\"#DejaVuSans-55\"/>\n       <use x=\"222.65625\" xlink:href=\"#DejaVuSans-53\"/>\n      </g>\n     </g>\n    </g>\n    <g id=\"ytick_11\">\n     <g id=\"line2d_17\">\n      <g>\n       <use style=\"stroke:#000000;stroke-width:0.8;\" x=\"462.636163\" xlink:href=\"#m56d00c7beb\" y=\"201.080494\"/>\n      </g>\n     </g>\n     <g id=\"text_21\">\n      <!-- 1.000 -->\n      <g transform=\"translate(469.636163 204.879713)scale(0.1 -0.1)\">\n       <use xlink:href=\"#DejaVuSans-49\"/>\n       <use x=\"63.623047\" xlink:href=\"#DejaVuSans-46\"/>\n       <use x=\"95.410156\" xlink:href=\"#DejaVuSans-48\"/>\n       <use x=\"159.033203\" xlink:href=\"#DejaVuSans-48\"/>\n       <use x=\"222.65625\" xlink:href=\"#DejaVuSans-48\"/>\n      </g>\n     </g>\n    </g>\n    <g id=\"ytick_12\">\n     <g id=\"line2d_18\">\n      <g>\n       <use style=\"stroke:#000000;stroke-width:0.8;\" x=\"462.636163\" xlink:href=\"#m56d00c7beb\" y=\"156.389902\"/>\n      </g>\n     </g>\n     <g id=\"text_22\">\n      <!-- 1.025 -->\n      <g transform=\"translate(469.636163 160.189121)scale(0.1 -0.1)\">\n       <use xlink:href=\"#DejaVuSans-49\"/>\n       <use x=\"63.623047\" xlink:href=\"#DejaVuSans-46\"/>\n       <use x=\"95.410156\" xlink:href=\"#DejaVuSans-48\"/>\n       <use x=\"159.033203\" xlink:href=\"#DejaVuSans-50\"/>\n       <use x=\"222.65625\" xlink:href=\"#DejaVuSans-53\"/>\n      </g>\n     </g>\n    </g>\n    <g id=\"ytick_13\">\n     <g id=\"line2d_19\">\n      <g>\n       <use style=\"stroke:#000000;stroke-width:0.8;\" x=\"462.636163\" xlink:href=\"#m56d00c7beb\" y=\"111.69931\"/>\n      </g>\n     </g>\n     <g id=\"text_23\">\n      <!-- 1.050 -->\n      <g transform=\"translate(469.636163 115.498528)scale(0.1 -0.1)\">\n       <use xlink:href=\"#DejaVuSans-49\"/>\n       <use x=\"63.623047\" xlink:href=\"#DejaVuSans-46\"/>\n       <use x=\"95.410156\" xlink:href=\"#DejaVuSans-48\"/>\n       <use x=\"159.033203\" xlink:href=\"#DejaVuSans-53\"/>\n       <use x=\"222.65625\" xlink:href=\"#DejaVuSans-48\"/>\n      </g>\n     </g>\n    </g>\n    <g id=\"ytick_14\">\n     <g id=\"line2d_20\">\n      <g>\n       <use style=\"stroke:#000000;stroke-width:0.8;\" x=\"462.636163\" xlink:href=\"#m56d00c7beb\" y=\"67.008717\"/>\n      </g>\n     </g>\n     <g id=\"text_24\">\n      <!-- 1.075 -->\n      <g transform=\"translate(469.636163 70.807936)scale(0.1 -0.1)\">\n       <use xlink:href=\"#DejaVuSans-49\"/>\n       <use x=\"63.623047\" xlink:href=\"#DejaVuSans-46\"/>\n       <use x=\"95.410156\" xlink:href=\"#DejaVuSans-48\"/>\n       <use x=\"159.033203\" xlink:href=\"#DejaVuSans-55\"/>\n       <use x=\"222.65625\" xlink:href=\"#DejaVuSans-53\"/>\n      </g>\n     </g>\n    </g>\n    <g id=\"ytick_15\">\n     <g id=\"line2d_21\">\n      <g>\n       <use style=\"stroke:#000000;stroke-width:0.8;\" x=\"462.636163\" xlink:href=\"#m56d00c7beb\" y=\"22.318125\"/>\n      </g>\n     </g>\n     <g id=\"text_25\">\n      <!-- 1.100 -->\n      <g transform=\"translate(469.636163 26.117344)scale(0.1 -0.1)\">\n       <use xlink:href=\"#DejaVuSans-49\"/>\n       <use x=\"63.623047\" xlink:href=\"#DejaVuSans-46\"/>\n       <use x=\"95.410156\" xlink:href=\"#DejaVuSans-49\"/>\n       <use x=\"159.033203\" xlink:href=\"#DejaVuSans-48\"/>\n       <use x=\"222.65625\" xlink:href=\"#DejaVuSans-48\"/>\n      </g>\n     </g>\n    </g>\n   </g>\n   <g id=\"patch_8\">\n    <path d=\"M 444.759926 379.842863 \nL 444.759926 378.446282 \nL 444.759926 23.714706 \nL 444.759926 22.318125 \nL 462.636163 22.318125 \nL 462.636163 23.714706 \nL 462.636163 378.446282 \nL 462.636163 379.842863 \nz\n\" style=\"fill:none;stroke:#000000;stroke-linejoin:miter;stroke-width:0.8;\"/>\n   </g>\n  </g>\n </g>\n <defs>\n  <clipPath id=\"pa2a0c9089b\">\n   <rect height=\"357.524738\" width=\"357.524738\" x=\"59.929688\" y=\"22.318125\"/>\n  </clipPath>\n  <clipPath id=\"pe855500ae1\">\n   <rect height=\"357.524738\" width=\"17.876237\" x=\"444.759926\" y=\"22.318125\"/>\n  </clipPath>\n </defs>\n</svg>\n",
      "image/png": "[encoded data removed]"
     },
     "metadata": {
      "needs_background": "light"
     }
    }
   ],
   "source": [
    "from sklearn.metrics import confusion_matrix\n",
    "\n",
    "\n",
    "plot_confusion_matrix(confusion_matrix(y_test, y_pred), ['parfil1', 'perfil2', 'perfil3', 'perfil4', 'perfil5', 'perfil6'])"
   ]
  },
  {
   "cell_type": "markdown",
   "metadata": {},
   "source": [
    "<hr>"
   ]
  },
  {
   "cell_type": "code",
   "execution_count": 47,
   "metadata": {
    "tags": []
   },
   "outputs": [
    {
     "output_type": "error",
     "ename": "ValueError",
     "evalue": "Number of classes, 1, does not match size of target_names, 6. Try specifying the labels parameter",
     "traceback": [
      "\u001b[0;31m---------------------------------------------------------------------------\u001b[0m",
      "\u001b[0;31mValueError\u001b[0m                                Traceback (most recent call last)",
      "\u001b[0;32m<ipython-input-47-5d891ff7d819>\u001b[0m in \u001b[0;36m<module>\u001b[0;34m\u001b[0m\n\u001b[1;32m      1\u001b[0m \u001b[0;32mfrom\u001b[0m \u001b[0msklearn\u001b[0m\u001b[0;34m.\u001b[0m\u001b[0mmetrics\u001b[0m \u001b[0;32mimport\u001b[0m \u001b[0mclassification_report\u001b[0m\u001b[0;34m\u001b[0m\u001b[0;34m\u001b[0m\u001b[0m\n\u001b[1;32m      2\u001b[0m \u001b[0mtarget_names\u001b[0m \u001b[0;34m=\u001b[0m \u001b[0;34m[\u001b[0m\u001b[0;34m'perfil1'\u001b[0m\u001b[0;34m,\u001b[0m \u001b[0;34m'perfil2'\u001b[0m\u001b[0;34m,\u001b[0m\u001b[0;34m'perfil3'\u001b[0m\u001b[0;34m,\u001b[0m\u001b[0;34m'perfil4'\u001b[0m\u001b[0;34m,\u001b[0m\u001b[0;34m'perfil5'\u001b[0m\u001b[0;34m,\u001b[0m\u001b[0;34m'perfil6'\u001b[0m\u001b[0;34m]\u001b[0m\u001b[0;34m\u001b[0m\u001b[0;34m\u001b[0m\u001b[0m\n\u001b[0;32m----> 3\u001b[0;31m \u001b[0mprint\u001b[0m\u001b[0;34m(\u001b[0m\u001b[0mclassification_report\u001b[0m\u001b[0;34m(\u001b[0m\u001b[0my_test\u001b[0m\u001b[0;34m,\u001b[0m \u001b[0my_pred\u001b[0m\u001b[0;34m,\u001b[0m \u001b[0mtarget_names\u001b[0m\u001b[0;34m=\u001b[0m\u001b[0mtarget_names\u001b[0m\u001b[0;34m)\u001b[0m\u001b[0;34m)\u001b[0m\u001b[0;34m\u001b[0m\u001b[0;34m\u001b[0m\u001b[0m\n\u001b[0m",
      "\u001b[0;32m~/Libraries/anaconda3/envs/mlenv/lib/python3.8/site-packages/sklearn/utils/validation.py\u001b[0m in \u001b[0;36minner_f\u001b[0;34m(*args, **kwargs)\u001b[0m\n\u001b[1;32m     71\u001b[0m                           FutureWarning)\n\u001b[1;32m     72\u001b[0m         \u001b[0mkwargs\u001b[0m\u001b[0;34m.\u001b[0m\u001b[0mupdate\u001b[0m\u001b[0;34m(\u001b[0m\u001b[0;34m{\u001b[0m\u001b[0mk\u001b[0m\u001b[0;34m:\u001b[0m \u001b[0marg\u001b[0m \u001b[0;32mfor\u001b[0m \u001b[0mk\u001b[0m\u001b[0;34m,\u001b[0m \u001b[0marg\u001b[0m \u001b[0;32min\u001b[0m \u001b[0mzip\u001b[0m\u001b[0;34m(\u001b[0m\u001b[0msig\u001b[0m\u001b[0;34m.\u001b[0m\u001b[0mparameters\u001b[0m\u001b[0;34m,\u001b[0m \u001b[0margs\u001b[0m\u001b[0;34m)\u001b[0m\u001b[0;34m}\u001b[0m\u001b[0;34m)\u001b[0m\u001b[0;34m\u001b[0m\u001b[0;34m\u001b[0m\u001b[0m\n\u001b[0;32m---> 73\u001b[0;31m         \u001b[0;32mreturn\u001b[0m \u001b[0mf\u001b[0m\u001b[0;34m(\u001b[0m\u001b[0;34m**\u001b[0m\u001b[0mkwargs\u001b[0m\u001b[0;34m)\u001b[0m\u001b[0;34m\u001b[0m\u001b[0;34m\u001b[0m\u001b[0m\n\u001b[0m\u001b[1;32m     74\u001b[0m     \u001b[0;32mreturn\u001b[0m \u001b[0minner_f\u001b[0m\u001b[0;34m\u001b[0m\u001b[0;34m\u001b[0m\u001b[0m\n\u001b[1;32m     75\u001b[0m \u001b[0;34m\u001b[0m\u001b[0m\n",
      "\u001b[0;32m~/Libraries/anaconda3/envs/mlenv/lib/python3.8/site-packages/sklearn/metrics/_classification.py\u001b[0m in \u001b[0;36mclassification_report\u001b[0;34m(y_true, y_pred, labels, target_names, sample_weight, digits, output_dict, zero_division)\u001b[0m\n\u001b[1;32m   1948\u001b[0m             )\n\u001b[1;32m   1949\u001b[0m         \u001b[0;32melse\u001b[0m\u001b[0;34m:\u001b[0m\u001b[0;34m\u001b[0m\u001b[0;34m\u001b[0m\u001b[0m\n\u001b[0;32m-> 1950\u001b[0;31m             raise ValueError(\n\u001b[0m\u001b[1;32m   1951\u001b[0m                 \u001b[0;34m\"Number of classes, {0}, does not match size of \"\u001b[0m\u001b[0;34m\u001b[0m\u001b[0;34m\u001b[0m\u001b[0m\n\u001b[1;32m   1952\u001b[0m                 \u001b[0;34m\"target_names, {1}. Try specifying the labels \"\u001b[0m\u001b[0;34m\u001b[0m\u001b[0;34m\u001b[0m\u001b[0m\n",
      "\u001b[0;31mValueError\u001b[0m: Number of classes, 1, does not match size of target_names, 6. Try specifying the labels parameter"
     ]
    }
   ],
   "source": [
    "from sklearn.metrics import classification_report\n",
    "target_names = ['perfil1', 'perfil2','perfil3','perfil4','perfil5','perfil6']\n",
    "print(classification_report(y_test, y_pred, target_names=target_names))"
   ]
  },
  {
   "cell_type": "markdown",
   "metadata": {},
   "source": [
    "## Scoring dos dados necessários para entregar a solução"
   ]
  },
  {
   "cell_type": "markdown",
   "metadata": {},
   "source": [
    "Como entrega da sua solução, esperamos os resultados classificados no seguinte dataset chamado \"to_be_scored.csv\":"
   ]
  },
  {
   "cell_type": "markdown",
   "metadata": {},
   "source": [
    "### Download da \"folha de respostas\""
   ]
  },
  {
   "cell_type": "code",
   "execution_count": 57,
   "metadata": {
    "scrolled": false,
    "tags": []
   },
   "outputs": [
    {
     "output_type": "stream",
     "name": "stdout",
     "text": "--2020-09-04 18:39:19--  https://raw.githubusercontent.com/vanderlei-test/dataset-3/master/to_be_scored.csv\nResolving raw.githubusercontent.com (raw.githubusercontent.com)...151.101.0.133\nConnecting to raw.githubusercontent.com (raw.githubusercontent.com)|151.101.0.133|:443...connected.\nHTTP request sent, awaiting response...200 OK\nLength: 96291 (94K) [text/plain]\nSaving to: ‘to_be_scored.csv.2’\n\nto_be_scored.csv.2  100%[===================>]  94,03K   481KB/s    in 0,2s    \n\n2020-09-04 18:39:19 (481 KB/s) - ‘to_be_scored.csv.2’ saved [96291/96291]\n\n"
    },
    {
     "output_type": "execute_result",
     "data": {
      "text/plain": "            id       graduacao                universidade    profissao  \\\n995  741745189    SEM FORMAÇÃO  UNIVERSIDADE NOVE DE JULHO  Coordenador   \n996  996387882     Bacharelado                        UFRN     Assessor   \n997  668869418     Bacharelado                      UFSCar      Gerente   \n998  676531718       Tecnólogo                       FATEC       Outros   \n999  388402340  Especialização                        UNIP     Advogado   \n\n     organizacao  pretende_fazer_cursos_lit  interesse_mba_lit  \\\n995     Borracha                          0                  0   \n996       Estado                          1                  1   \n997  Siderurgica                          1                  1   \n998     servicos                          1                  1   \n999    Montadora                          0                  0   \n\n     importante_ter_certificado  horas_semanais_estudo  \\\n995                           1                      2   \n996                           1                      8   \n997                           1                      9   \n998                           1                      9   \n999                           1                      9   \n\n              como_conheceu_lit  total_modulos  modulos_iniciados  \\\n995                     YouTube            245                 63   \n996                      Google            163                111   \n997                    Facebook             56                 10   \n998  Mídia (revista/jornal/web)            138                 60   \n999  Mídia (revista/jornal/web)             22                 20   \n\n     modulos_finalizados  certificados  \n995                   45             1  \n996                   96             0  \n997                    4             0  \n998                   30             0  \n999                   19             0  ",
      "text/html": "<div>\n<style scoped>\n    .dataframe tbody tr th:only-of-type {\n        vertical-align: middle;\n    }\n\n    .dataframe tbody tr th {\n        vertical-align: top;\n    }\n\n    .dataframe thead th {\n        text-align: right;\n    }\n</style>\n<table border=\"1\" class=\"dataframe\">\n  <thead>\n    <tr style=\"text-align: right;\">\n      <th></th>\n      <th>id</th>\n      <th>graduacao</th>\n      <th>universidade</th>\n      <th>profissao</th>\n      <th>organizacao</th>\n      <th>pretende_fazer_cursos_lit</th>\n      <th>interesse_mba_lit</th>\n      <th>importante_ter_certificado</th>\n      <th>horas_semanais_estudo</th>\n      <th>como_conheceu_lit</th>\n      <th>total_modulos</th>\n      <th>modulos_iniciados</th>\n      <th>modulos_finalizados</th>\n      <th>certificados</th>\n    </tr>\n  </thead>\n  <tbody>\n    <tr>\n      <th>995</th>\n      <td>741745189</td>\n      <td>SEM FORMAÇÃO</td>\n      <td>UNIVERSIDADE NOVE DE JULHO</td>\n      <td>Coordenador</td>\n      <td>Borracha</td>\n      <td>0</td>\n      <td>0</td>\n      <td>1</td>\n      <td>2</td>\n      <td>YouTube</td>\n      <td>245</td>\n      <td>63</td>\n      <td>45</td>\n      <td>1</td>\n    </tr>\n    <tr>\n      <th>996</th>\n      <td>996387882</td>\n      <td>Bacharelado</td>\n      <td>UFRN</td>\n      <td>Assessor</td>\n      <td>Estado</td>\n      <td>1</td>\n      <td>1</td>\n      <td>1</td>\n      <td>8</td>\n      <td>Google</td>\n      <td>163</td>\n      <td>111</td>\n      <td>96</td>\n      <td>0</td>\n    </tr>\n    <tr>\n      <th>997</th>\n      <td>668869418</td>\n      <td>Bacharelado</td>\n      <td>UFSCar</td>\n      <td>Gerente</td>\n      <td>Siderurgica</td>\n      <td>1</td>\n      <td>1</td>\n      <td>1</td>\n      <td>9</td>\n      <td>Facebook</td>\n      <td>56</td>\n      <td>10</td>\n      <td>4</td>\n      <td>0</td>\n    </tr>\n    <tr>\n      <th>998</th>\n      <td>676531718</td>\n      <td>Tecnólogo</td>\n      <td>FATEC</td>\n      <td>Outros</td>\n      <td>servicos</td>\n      <td>1</td>\n      <td>1</td>\n      <td>1</td>\n      <td>9</td>\n      <td>Mídia (revista/jornal/web)</td>\n      <td>138</td>\n      <td>60</td>\n      <td>30</td>\n      <td>0</td>\n    </tr>\n    <tr>\n      <th>999</th>\n      <td>388402340</td>\n      <td>Especialização</td>\n      <td>UNIP</td>\n      <td>Advogado</td>\n      <td>Montadora</td>\n      <td>0</td>\n      <td>0</td>\n      <td>1</td>\n      <td>9</td>\n      <td>Mídia (revista/jornal/web)</td>\n      <td>22</td>\n      <td>20</td>\n      <td>19</td>\n      <td>0</td>\n    </tr>\n  </tbody>\n</table>\n</div>"
     },
     "metadata": {},
     "execution_count": 57
    }
   ],
   "source": [
    "!wget --no-check-certificate --content-disposition https://raw.githubusercontent.com/vanderlei-test/dataset-3/master/to_be_scored.csv\n",
    "df_to_be_scored = pd.read_csv(r'to_be_scored.csv')\n",
    "df_to_be_scored.tail()"
   ]
  },
  {
   "cell_type": "markdown",
   "metadata": {},
   "source": [
    "# Atenção!\n",
    "\n",
    "O dataframe ``to_be_scored`` é a sua \"folha de respostas\". Note que a coluna \"categoria\" não existe nessa amostra, que não pode ser então utilizada para treino de modelos de aprendizado supervisionado."
   ]
  },
  {
   "cell_type": "code",
   "execution_count": 58,
   "metadata": {
    "scrolled": true,
    "tags": []
   },
   "outputs": [
    {
     "output_type": "stream",
     "name": "stdout",
     "text": "<class 'pandas.core.frame.DataFrame'>\nRangeIndex: 1000 entries, 0 to 999\nData columns (total 14 columns):\n #   Column                      Non-Null Count  Dtype \n---  ------                      --------------  ----- \n 0   id                          1000 non-null   int64 \n 1   graduacao                   1000 non-null   object\n 2   universidade                1000 non-null   object\n 3   profissao                   1000 non-null   object\n 4   organizacao                 1000 non-null   object\n 5   pretende_fazer_cursos_lit   1000 non-null   int64 \n 6   interesse_mba_lit           1000 non-null   int64 \n 7   importante_ter_certificado  1000 non-null   int64 \n 8   horas_semanais_estudo       1000 non-null   int64 \n 9   como_conheceu_lit           1000 non-null   object\n 10  total_modulos               1000 non-null   int64 \n 11  modulos_iniciados           1000 non-null   int64 \n 12  modulos_finalizados         1000 non-null   int64 \n 13  certificados                1000 non-null   int64 \ndtypes: int64(9), object(5)\nmemory usage: 109.5+ KB\n"
    }
   ],
   "source": [
    "df_to_be_scored.info()"
   ]
  },
  {
   "cell_type": "markdown",
   "metadata": {},
   "source": [
    "<hr>\n",
    "\n",
    "# Atenção!\n",
    "\n",
    "# Para poder aplicar seu modelo e classificar a folha de respostas, você precisa primeiro aplicar as mesmas transformações com colunas que você aplicou no dataset de treino.\n",
    "\n",
    "# Não remova ou adicione linhas na folha de respostas. \n",
    "\n",
    "# Não altere a ordem das linhas na folha de respostas.\n",
    "\n",
    "# Ao final, as 1000 entradas devem estar classificadas, com os valores previstos em uma coluna chamada \"target\"\n",
    "\n",
    "<hr>"
   ]
  },
  {
   "cell_type": "markdown",
   "metadata": {},
   "source": [
    "Na célula abaixo, repetimos rapidamente os mesmos passos de pré-processamento usados no exemplo dado com árvore de decisão"
   ]
  },
  {
   "cell_type": "code",
   "execution_count": 59,
   "metadata": {},
   "outputs": [
    {
     "output_type": "execute_result",
     "data": {
      "text/plain": "     pretende_fazer_cursos_lit  interesse_mba_lit  importante_ter_certificado  \\\n995                          0                  0                           1   \n996                          1                  1                           1   \n997                          1                  1                           1   \n998                          1                  1                           1   \n999                          0                  0                           1   \n\n     horas_semanais_estudo  total_modulos  modulos_iniciados  \\\n995                      2            245                 63   \n996                      8            163                111   \n997                      9             56                 10   \n998                      9            138                 60   \n999                      9             22                 20   \n\n     modulos_finalizados  certificados  graduacao_Bacharelado  \\\n995                   45             1                      0   \n996                   96             0                      1   \n997                    4             0                      1   \n998                   30             0                      0   \n999                   19             0                      0   \n\n     graduacao_Especialização  ...  organizacao_servicos  \\\n995                         0  ...                     0   \n996                         0  ...                     0   \n997                         0  ...                     0   \n998                         0  ...                     1   \n999                         1  ...                     0   \n\n     como_conheceu_lit_Facebook  como_conheceu_lit_Google  \\\n995                           0                         0   \n996                           0                         1   \n997                           1                         0   \n998                           0                         0   \n999                           0                         0   \n\n     como_conheceu_lit_Instagram  como_conheceu_lit_Linkedin  \\\n995                            0                           0   \n996                            0                           0   \n997                            0                           0   \n998                            0                           0   \n999                            0                           0   \n\n     como_conheceu_lit_Minha empresa - benefício LITpass  \\\n995                                                  0     \n996                                                  0     \n997                                                  0     \n998                                                  0     \n999                                                  0     \n\n     como_conheceu_lit_Mídia (revista/jornal/web)  como_conheceu_lit_Outros  \\\n995                                             0                         0   \n996                                             0                         0   \n997                                             0                         0   \n998                                             1                         0   \n999                                             1                         0   \n\n     como_conheceu_lit_Saint Paul  como_conheceu_lit_YouTube  \n995                             0                          1  \n996                             0                          0  \n997                             0                          0  \n998                             0                          0  \n999                             0                          0  \n\n[5 rows x 67 columns]",
      "text/html": "<div>\n<style scoped>\n    .dataframe tbody tr th:only-of-type {\n        vertical-align: middle;\n    }\n\n    .dataframe tbody tr th {\n        vertical-align: top;\n    }\n\n    .dataframe thead th {\n        text-align: right;\n    }\n</style>\n<table border=\"1\" class=\"dataframe\">\n  <thead>\n    <tr style=\"text-align: right;\">\n      <th></th>\n      <th>pretende_fazer_cursos_lit</th>\n      <th>interesse_mba_lit</th>\n      <th>importante_ter_certificado</th>\n      <th>horas_semanais_estudo</th>\n      <th>total_modulos</th>\n      <th>modulos_iniciados</th>\n      <th>modulos_finalizados</th>\n      <th>certificados</th>\n      <th>graduacao_Bacharelado</th>\n      <th>graduacao_Especialização</th>\n      <th>...</th>\n      <th>organizacao_servicos</th>\n      <th>como_conheceu_lit_Facebook</th>\n      <th>como_conheceu_lit_Google</th>\n      <th>como_conheceu_lit_Instagram</th>\n      <th>como_conheceu_lit_Linkedin</th>\n      <th>como_conheceu_lit_Minha empresa - benefício LITpass</th>\n      <th>como_conheceu_lit_Mídia (revista/jornal/web)</th>\n      <th>como_conheceu_lit_Outros</th>\n      <th>como_conheceu_lit_Saint Paul</th>\n      <th>como_conheceu_lit_YouTube</th>\n    </tr>\n  </thead>\n  <tbody>\n    <tr>\n      <th>995</th>\n      <td>0</td>\n      <td>0</td>\n      <td>1</td>\n      <td>2</td>\n      <td>245</td>\n      <td>63</td>\n      <td>45</td>\n      <td>1</td>\n      <td>0</td>\n      <td>0</td>\n      <td>...</td>\n      <td>0</td>\n      <td>0</td>\n      <td>0</td>\n      <td>0</td>\n      <td>0</td>\n      <td>0</td>\n      <td>0</td>\n      <td>0</td>\n      <td>0</td>\n      <td>1</td>\n    </tr>\n    <tr>\n      <th>996</th>\n      <td>1</td>\n      <td>1</td>\n      <td>1</td>\n      <td>8</td>\n      <td>163</td>\n      <td>111</td>\n      <td>96</td>\n      <td>0</td>\n      <td>1</td>\n      <td>0</td>\n      <td>...</td>\n      <td>0</td>\n      <td>0</td>\n      <td>1</td>\n      <td>0</td>\n      <td>0</td>\n      <td>0</td>\n      <td>0</td>\n      <td>0</td>\n      <td>0</td>\n      <td>0</td>\n    </tr>\n    <tr>\n      <th>997</th>\n      <td>1</td>\n      <td>1</td>\n      <td>1</td>\n      <td>9</td>\n      <td>56</td>\n      <td>10</td>\n      <td>4</td>\n      <td>0</td>\n      <td>1</td>\n      <td>0</td>\n      <td>...</td>\n      <td>0</td>\n      <td>1</td>\n      <td>0</td>\n      <td>0</td>\n      <td>0</td>\n      <td>0</td>\n      <td>0</td>\n      <td>0</td>\n      <td>0</td>\n      <td>0</td>\n    </tr>\n    <tr>\n      <th>998</th>\n      <td>1</td>\n      <td>1</td>\n      <td>1</td>\n      <td>9</td>\n      <td>138</td>\n      <td>60</td>\n      <td>30</td>\n      <td>0</td>\n      <td>0</td>\n      <td>0</td>\n      <td>...</td>\n      <td>1</td>\n      <td>0</td>\n      <td>0</td>\n      <td>0</td>\n      <td>0</td>\n      <td>0</td>\n      <td>1</td>\n      <td>0</td>\n      <td>0</td>\n      <td>0</td>\n    </tr>\n    <tr>\n      <th>999</th>\n      <td>0</td>\n      <td>0</td>\n      <td>1</td>\n      <td>9</td>\n      <td>22</td>\n      <td>20</td>\n      <td>19</td>\n      <td>0</td>\n      <td>0</td>\n      <td>1</td>\n      <td>...</td>\n      <td>0</td>\n      <td>0</td>\n      <td>0</td>\n      <td>0</td>\n      <td>0</td>\n      <td>0</td>\n      <td>1</td>\n      <td>0</td>\n      <td>0</td>\n      <td>0</td>\n    </tr>\n  </tbody>\n</table>\n<p>5 rows × 67 columns</p>\n</div>"
     },
     "metadata": {},
     "execution_count": 59
    }
   ],
   "source": [
    "\n",
    "# 1 - Removendo linhas com valores NaN em \"certificados\" e \"total_modulos\"\n",
    "df_to_be_scored_1 = df_to_be_scored.dropna(axis='index', how='any', subset=['certificados', 'total_modulos'])\n",
    "\n",
    "# 2 - Inputando zeros nos valores faltantes\n",
    "impute_zeros.fit(X=df_to_be_scored_1)\n",
    "df_to_be_scored_2 = pd.DataFrame.from_records(\n",
    "    data=impute_zeros.transform(\n",
    "        X=df_to_be_scored_1\n",
    "    ),\n",
    "    columns=df_to_be_scored_1.columns\n",
    ")\n",
    "\n",
    "# 3 - Remoção de colunas\n",
    "df_to_be_scored_3 = df_to_be_scored_2.drop(columns=['id'], inplace=False)\n",
    "\n",
    "# 4 - Encoding com \"dummy variables\"\n",
    "df_to_be_scored_4 = pd.get_dummies(df_to_be_scored_3, columns=['graduacao','universidade','profissao','organizacao','como_conheceu_lit'])\n",
    "\n",
    "df_to_be_scored_4.tail()"
   ]
  },
  {
   "cell_type": "markdown",
   "metadata": {},
   "source": [
    "<hr>\n",
    "\n",
    "Pode ser verificado abaixo que as colunas da folha de resposta agora são idênticas às que foram usadas para treinar o modelo:"
   ]
  },
  {
   "cell_type": "code",
   "execution_count": 60,
   "metadata": {},
   "outputs": [
    {
     "output_type": "execute_result",
     "data": {
      "text/plain": "Index(['pretende_fazer_cursos_lit', 'interesse_mba_lit',\n       'importante_ter_certificado', 'horas_semanais_estudo', 'total_modulos',\n       'modulos_iniciados', 'modulos_finalizados', 'certificados',\n       'graduacao_Bacharelado', 'graduacao_Especialização',\n       'graduacao_Licenciatura', 'graduacao_MBA', 'graduacao_SEM FORMAÇÃO',\n       'graduacao_Tecnólogo',\n       'universidade_CENTRO UNIVERSITÁRIO ESTÁCIO DA SÁ',\n       'universidade_Escola Paulista de Direito',\n       'universidade_FACULDADE ANHANGUERA', 'universidade_FATEC',\n       'universidade_FGV-RJ',\n       'universidade_INSPER INSTITUTO DE ENSINO E PESQUISA',\n       'universidade_UEPB', 'universidade_UFF', 'universidade_UFPE',\n       'universidade_UFRJ', 'universidade_UFRN', 'universidade_UFSCar',\n       'universidade_UNICAMP', 'universidade_UNIP',\n       'universidade_UNIVERSIDADE CRUZEIRO DO SUL',\n       'universidade_UNIVERSIDADE ESTADUAL DE PONTA GROSSA',\n       'universidade_UNIVERSIDADE NOVE DE JULHO',\n       'universidade_UNIVERSIDADE PRESBITERIANA MACKENZIE', 'universidade_USP',\n       'universidade_Unesp',\n       'universidade_Universidade Metodista de Sao Paulo',\n       'profissao_Advogado', 'profissao_Analista', 'profissao_Analista Senior',\n       'profissao_Assessor', 'profissao_Coordenador', 'profissao_Diretor',\n       'profissao_Engenheiro', 'profissao_Gerente', 'profissao_Outros',\n       'profissao_SEM EXPERIÊNCIA', 'profissao_Supervisor',\n       'profissao_Sócio/Dono/Proprietário', 'organizacao_Borracha',\n       'organizacao_Eletrodomesticos', 'organizacao_Eletroeletronicos',\n       'organizacao_Entretenimento', 'organizacao_Estado',\n       'organizacao_Laminados', 'organizacao_Montadora',\n       'organizacao_Oleo e Gas', 'organizacao_Siderurgica',\n       'organizacao_e-commerce', 'organizacao_servicos',\n       'como_conheceu_lit_Facebook', 'como_conheceu_lit_Google',\n       'como_conheceu_lit_Instagram', 'como_conheceu_lit_Linkedin',\n       'como_conheceu_lit_Minha empresa - benefício LITpass',\n       'como_conheceu_lit_Mídia (revista/jornal/web)',\n       'como_conheceu_lit_Outros', 'como_conheceu_lit_Saint Paul',\n       'como_conheceu_lit_YouTube'],\n      dtype='object')"
     },
     "metadata": {},
     "execution_count": 60
    }
   ],
   "source": [
    "df_training[\n",
    "    [\n",
    "        'pretende_fazer_cursos_lit', 'interesse_mba_lit',\n",
    "       'importante_ter_certificado', 'horas_semanais_estudo', 'total_modulos',\n",
    "       'modulos_iniciados', 'modulos_finalizados', 'certificados',\n",
    "       'graduacao_Bacharelado', 'graduacao_Especialização',\n",
    "       'graduacao_Licenciatura', 'graduacao_MBA', 'graduacao_SEM FORMAÇÃO',\n",
    "       'graduacao_Tecnólogo',\n",
    "       'universidade_CENTRO UNIVERSITÁRIO ESTÁCIO DA SÁ',\n",
    "       'universidade_Escola Paulista de Direito',\n",
    "       'universidade_FACULDADE ANHANGUERA', 'universidade_FATEC',\n",
    "       'universidade_FGV-RJ',\n",
    "       'universidade_INSPER INSTITUTO DE ENSINO E PESQUISA',\n",
    "       'universidade_UEPB', 'universidade_UFF', 'universidade_UFPE',\n",
    "       'universidade_UFRJ', 'universidade_UFRN', 'universidade_UFSCar',\n",
    "       'universidade_UNICAMP', 'universidade_UNIP',\n",
    "       'universidade_UNIVERSIDADE CRUZEIRO DO SUL',\n",
    "       'universidade_UNIVERSIDADE ESTADUAL DE PONTA GROSSA',\n",
    "       'universidade_UNIVERSIDADE NOVE DE JULHO',\n",
    "       'universidade_UNIVERSIDADE PRESBITERIANA MACKENZIE', 'universidade_USP',\n",
    "       'universidade_Unesp',\n",
    "       'universidade_Universidade Metodista de Sao Paulo',\n",
    "       'profissao_Advogado', 'profissao_Analista', 'profissao_Analista Senior',\n",
    "       'profissao_Assessor', 'profissao_Coordenador', 'profissao_Diretor',\n",
    "       'profissao_Engenheiro', 'profissao_Gerente', 'profissao_Outros',\n",
    "       'profissao_SEM EXPERIÊNCIA', 'profissao_Supervisor',\n",
    "       'profissao_Sócio/Dono/Proprietário', 'organizacao_Borracha',\n",
    "       'organizacao_Eletrodomesticos', 'organizacao_Eletroeletronicos',\n",
    "       'organizacao_Entretenimento', 'organizacao_Estado',\n",
    "       'organizacao_Laminados', 'organizacao_Montadora',\n",
    "       'organizacao_Oleo e Gas', 'organizacao_Siderurgica',\n",
    "       'organizacao_e-commerce', 'organizacao_servicos',\n",
    "       'como_conheceu_lit_Facebook', 'como_conheceu_lit_Google',\n",
    "       'como_conheceu_lit_Instagram', 'como_conheceu_lit_Linkedin',\n",
    "       'como_conheceu_lit_Minha empresa - benefício LITpass',\n",
    "       'como_conheceu_lit_Mídia (revista/jornal/web)',\n",
    "       'como_conheceu_lit_Outros', 'como_conheceu_lit_Saint Paul',\n",
    "       'como_conheceu_lit_YouTube'\n",
    "    ]\n",
    "].columns"
   ]
  },
  {
   "cell_type": "code",
   "execution_count": 61,
   "metadata": {},
   "outputs": [
    {
     "output_type": "execute_result",
     "data": {
      "text/plain": "Index(['pretende_fazer_cursos_lit', 'interesse_mba_lit',\n       'importante_ter_certificado', 'horas_semanais_estudo', 'total_modulos',\n       'modulos_iniciados', 'modulos_finalizados', 'certificados',\n       'graduacao_Bacharelado', 'graduacao_Especialização',\n       'graduacao_Licenciatura', 'graduacao_MBA', 'graduacao_SEM FORMAÇÃO',\n       'graduacao_Tecnólogo',\n       'universidade_CENTRO UNIVERSITÁRIO ESTÁCIO DA SÁ',\n       'universidade_Escola Paulista de Direito',\n       'universidade_FACULDADE ANHANGUERA', 'universidade_FATEC',\n       'universidade_FGV-RJ',\n       'universidade_INSPER INSTITUTO DE ENSINO E PESQUISA',\n       'universidade_UEPB', 'universidade_UFF', 'universidade_UFPE',\n       'universidade_UFRJ', 'universidade_UFRN', 'universidade_UFSCar',\n       'universidade_UNICAMP', 'universidade_UNIP',\n       'universidade_UNIVERSIDADE CRUZEIRO DO SUL',\n       'universidade_UNIVERSIDADE ESTADUAL DE PONTA GROSSA',\n       'universidade_UNIVERSIDADE NOVE DE JULHO',\n       'universidade_UNIVERSIDADE PRESBITERIANA MACKENZIE', 'universidade_USP',\n       'universidade_Unesp',\n       'universidade_Universidade Metodista de Sao Paulo',\n       'profissao_Advogado', 'profissao_Analista', 'profissao_Analista Senior',\n       'profissao_Assessor', 'profissao_Coordenador', 'profissao_Diretor',\n       'profissao_Engenheiro', 'profissao_Gerente', 'profissao_Outros',\n       'profissao_SEM EXPERIÊNCIA', 'profissao_Supervisor',\n       'profissao_Sócio/Dono/Proprietário', 'organizacao_Borracha',\n       'organizacao_Eletrodomesticos', 'organizacao_Eletroeletronicos',\n       'organizacao_Entretenimento', 'organizacao_Estado',\n       'organizacao_Laminados', 'organizacao_Montadora',\n       'organizacao_Oleo e Gas', 'organizacao_Siderurgica',\n       'organizacao_e-commerce', 'organizacao_servicos',\n       'como_conheceu_lit_Facebook', 'como_conheceu_lit_Google',\n       'como_conheceu_lit_Instagram', 'como_conheceu_lit_Linkedin',\n       'como_conheceu_lit_Minha empresa - benefício LITpass',\n       'como_conheceu_lit_Mídia (revista/jornal/web)',\n       'como_conheceu_lit_Outros', 'como_conheceu_lit_Saint Paul',\n       'como_conheceu_lit_YouTube'],\n      dtype='object')"
     },
     "metadata": {},
     "execution_count": 61
    }
   ],
   "source": [
    "df_to_be_scored_4.columns"
   ]
  },
  {
   "cell_type": "markdown",
   "metadata": {},
   "source": [
    "# Atenção\n",
    "\n",
    "Para todas colunas que não existirem no \"df_to_be_scored\", você pode usar a técnica abaixo para adicioná-las:"
   ]
  },
  {
   "cell_type": "code",
   "execution_count": 62,
   "metadata": {
    "scrolled": false
   },
   "outputs": [
    {
     "output_type": "execute_result",
     "data": {
      "text/plain": "     pretende_fazer_cursos_lit  interesse_mba_lit  importante_ter_certificado  \\\n995                          0                  0                           1   \n996                          1                  1                           1   \n997                          1                  1                           1   \n998                          1                  1                           1   \n999                          0                  0                           1   \n\n     horas_semanais_estudo  total_modulos  modulos_iniciados  \\\n995                      2            245                 63   \n996                      8            163                111   \n997                      9             56                 10   \n998                      9            138                 60   \n999                      9             22                 20   \n\n     modulos_finalizados  certificados  graduacao_Bacharelado  \\\n995                   45             1                      0   \n996                   96             0                      1   \n997                    4             0                      1   \n998                   30             0                      0   \n999                   19             0                      0   \n\n     graduacao_Especialização  ...  como_conheceu_lit_Facebook  \\\n995                         0  ...                           0   \n996                         0  ...                           0   \n997                         0  ...                           1   \n998                         0  ...                           0   \n999                         1  ...                           0   \n\n     como_conheceu_lit_Google  como_conheceu_lit_Instagram  \\\n995                         0                            0   \n996                         1                            0   \n997                         0                            0   \n998                         0                            0   \n999                         0                            0   \n\n     como_conheceu_lit_Linkedin  \\\n995                           0   \n996                           0   \n997                           0   \n998                           0   \n999                           0   \n\n     como_conheceu_lit_Minha empresa - benefício LITpass  \\\n995                                                  0     \n996                                                  0     \n997                                                  0     \n998                                                  0     \n999                                                  0     \n\n     como_conheceu_lit_Mídia (revista/jornal/web)  como_conheceu_lit_Outros  \\\n995                                             0                         0   \n996                                             0                         0   \n997                                             0                         0   \n998                                             1                         0   \n999                                             1                         0   \n\n     como_conheceu_lit_Saint Paul  como_conheceu_lit_YouTube   target  \n995                             0                          1  perfil1  \n996                             0                          0  perfil2  \n997                             0                          0  perfil6  \n998                             0                          0  perfil2  \n999                             0                          0  perfil3  \n\n[5 rows x 68 columns]",
      "text/html": "<div>\n<style scoped>\n    .dataframe tbody tr th:only-of-type {\n        vertical-align: middle;\n    }\n\n    .dataframe tbody tr th {\n        vertical-align: top;\n    }\n\n    .dataframe thead th {\n        text-align: right;\n    }\n</style>\n<table border=\"1\" class=\"dataframe\">\n  <thead>\n    <tr style=\"text-align: right;\">\n      <th></th>\n      <th>pretende_fazer_cursos_lit</th>\n      <th>interesse_mba_lit</th>\n      <th>importante_ter_certificado</th>\n      <th>horas_semanais_estudo</th>\n      <th>total_modulos</th>\n      <th>modulos_iniciados</th>\n      <th>modulos_finalizados</th>\n      <th>certificados</th>\n      <th>graduacao_Bacharelado</th>\n      <th>graduacao_Especialização</th>\n      <th>...</th>\n      <th>como_conheceu_lit_Facebook</th>\n      <th>como_conheceu_lit_Google</th>\n      <th>como_conheceu_lit_Instagram</th>\n      <th>como_conheceu_lit_Linkedin</th>\n      <th>como_conheceu_lit_Minha empresa - benefício LITpass</th>\n      <th>como_conheceu_lit_Mídia (revista/jornal/web)</th>\n      <th>como_conheceu_lit_Outros</th>\n      <th>como_conheceu_lit_Saint Paul</th>\n      <th>como_conheceu_lit_YouTube</th>\n      <th>target</th>\n    </tr>\n  </thead>\n  <tbody>\n    <tr>\n      <th>995</th>\n      <td>0</td>\n      <td>0</td>\n      <td>1</td>\n      <td>2</td>\n      <td>245</td>\n      <td>63</td>\n      <td>45</td>\n      <td>1</td>\n      <td>0</td>\n      <td>0</td>\n      <td>...</td>\n      <td>0</td>\n      <td>0</td>\n      <td>0</td>\n      <td>0</td>\n      <td>0</td>\n      <td>0</td>\n      <td>0</td>\n      <td>0</td>\n      <td>1</td>\n      <td>perfil1</td>\n    </tr>\n    <tr>\n      <th>996</th>\n      <td>1</td>\n      <td>1</td>\n      <td>1</td>\n      <td>8</td>\n      <td>163</td>\n      <td>111</td>\n      <td>96</td>\n      <td>0</td>\n      <td>1</td>\n      <td>0</td>\n      <td>...</td>\n      <td>0</td>\n      <td>1</td>\n      <td>0</td>\n      <td>0</td>\n      <td>0</td>\n      <td>0</td>\n      <td>0</td>\n      <td>0</td>\n      <td>0</td>\n      <td>perfil2</td>\n    </tr>\n    <tr>\n      <th>997</th>\n      <td>1</td>\n      <td>1</td>\n      <td>1</td>\n      <td>9</td>\n      <td>56</td>\n      <td>10</td>\n      <td>4</td>\n      <td>0</td>\n      <td>1</td>\n      <td>0</td>\n      <td>...</td>\n      <td>1</td>\n      <td>0</td>\n      <td>0</td>\n      <td>0</td>\n      <td>0</td>\n      <td>0</td>\n      <td>0</td>\n      <td>0</td>\n      <td>0</td>\n      <td>perfil6</td>\n    </tr>\n    <tr>\n      <th>998</th>\n      <td>1</td>\n      <td>1</td>\n      <td>1</td>\n      <td>9</td>\n      <td>138</td>\n      <td>60</td>\n      <td>30</td>\n      <td>0</td>\n      <td>0</td>\n      <td>0</td>\n      <td>...</td>\n      <td>0</td>\n      <td>0</td>\n      <td>0</td>\n      <td>0</td>\n      <td>0</td>\n      <td>1</td>\n      <td>0</td>\n      <td>0</td>\n      <td>0</td>\n      <td>perfil2</td>\n    </tr>\n    <tr>\n      <th>999</th>\n      <td>0</td>\n      <td>0</td>\n      <td>1</td>\n      <td>9</td>\n      <td>22</td>\n      <td>20</td>\n      <td>19</td>\n      <td>0</td>\n      <td>0</td>\n      <td>1</td>\n      <td>...</td>\n      <td>0</td>\n      <td>0</td>\n      <td>0</td>\n      <td>0</td>\n      <td>0</td>\n      <td>1</td>\n      <td>0</td>\n      <td>0</td>\n      <td>0</td>\n      <td>perfil3</td>\n    </tr>\n  </tbody>\n</table>\n<p>5 rows × 68 columns</p>\n</div>"
     },
     "metadata": {},
     "execution_count": 62
    }
   ],
   "source": [
    "y_pred = dtc.predict(df_to_be_scored_4)\n",
    "df_to_be_scored_4['target'] = y_pred\n",
    "df_to_be_scored_4.tail()"
   ]
  },
  {
   "cell_type": "markdown",
   "metadata": {},
   "source": [
    "### Salvando a folha de respostas como um arquivo .csv para ser submetido"
   ]
  },
  {
   "cell_type": "code",
   "execution_count": 63,
   "metadata": {},
   "outputs": [],
   "source": [
    "df_to_be_scored_4.to_csv(\"results1.csv\")"
   ]
  },
  {
   "cell_type": "markdown",
   "metadata": {},
   "source": [
    "# Atenção\n",
    "\n",
    "# A execução da célula acima irá criar um novo \"data asset\" no seu projeto no Watson Studio. Você precisará realizar o download deste arquivo juntamente com este notebook e criar um arquivo zip com os arquivos **results.csv** e **notebook.ipynb** para submissão. (os arquivos devem estar nomeados desta forma)"
   ]
  },
  {
   "cell_type": "markdown",
   "metadata": {},
   "source": [
    "<hr>\n",
    "\n",
    "## Parabéns!\n",
    "\n",
    "Se você já está satisfeito com a sua solução, vá até a página abaixo e envie os arquivos necessários para submissão.\n",
    "\n",
    "# https://lit.maratona.dev\n"
   ]
  },
  {
   "cell_type": "code",
   "execution_count": null,
   "metadata": {},
   "outputs": [],
   "source": []
  }
 ],
 "metadata": {
  "kernelspec": {
   "display_name": "Python 3.8.5 64-bit ('mlenv': conda)",
   "language": "python",
   "name": "python38564bitmlenvconda3f9528af09c14fdcb46a2fa25c0f2428"
  },
  "language_info": {
   "codemirror_mode": {
    "name": "ipython",
    "version": 3
   },
   "file_extension": ".py",
   "mimetype": "text/x-python",
   "name": "python",
   "nbconvert_exporter": "python",
   "pygments_lexer": "ipython3",
   "version": "3.8.5-final"
  }
 },
 "nbformat": 4,
 "nbformat_minor": 1
}